{
 "cells": [
  {
   "cell_type": "code",
   "execution_count": 1,
   "metadata": {
    "collapsed": true
   },
   "outputs": [],
   "source": [
    "import charts_function_list\n",
    "import os"
   ]
  },
  {
   "cell_type": "code",
   "execution_count": 2,
   "metadata": {
    "collapsed": true
   },
   "outputs": [],
   "source": [
    "base,data,outputs = charts_function_list.folder_setup()\n",
    "os.chdir(data)"
   ]
  },
  {
   "cell_type": "code",
   "execution_count": 185,
   "metadata": {},
   "outputs": [
    {
     "data": {
      "text/html": [
       "<div>\n",
       "<style scoped>\n",
       "    .dataframe tbody tr th:only-of-type {\n",
       "        vertical-align: middle;\n",
       "    }\n",
       "\n",
       "    .dataframe tbody tr th {\n",
       "        vertical-align: top;\n",
       "    }\n",
       "\n",
       "    .dataframe thead th {\n",
       "        text-align: right;\n",
       "    }\n",
       "</style>\n",
       "<table border=\"1\" class=\"dataframe\">\n",
       "  <thead>\n",
       "    <tr style=\"text-align: right;\">\n",
       "      <th></th>\n",
       "      <th>Date</th>\n",
       "      <th>Alex</th>\n",
       "      <th>Andrea</th>\n",
       "    </tr>\n",
       "  </thead>\n",
       "  <tbody>\n",
       "    <tr>\n",
       "      <th>0</th>\n",
       "      <td>3/27/2019</td>\n",
       "      <td>Chicken, Pig</td>\n",
       "      <td>Chicken, Pig</td>\n",
       "    </tr>\n",
       "    <tr>\n",
       "      <th>1</th>\n",
       "      <td>3/28/2019</td>\n",
       "      <td>Dorade, Lamb</td>\n",
       "      <td>Dorade, Lamb, Chicken</td>\n",
       "    </tr>\n",
       "    <tr>\n",
       "      <th>2</th>\n",
       "      <td>3/29/2019</td>\n",
       "      <td>Chicken, Pig, Cow</td>\n",
       "      <td>Lamb</td>\n",
       "    </tr>\n",
       "    <tr>\n",
       "      <th>3</th>\n",
       "      <td>3/30/2019</td>\n",
       "      <td>Chicken, Shrimp</td>\n",
       "      <td>Chicken, Shrimp</td>\n",
       "    </tr>\n",
       "    <tr>\n",
       "      <th>4</th>\n",
       "      <td>3/31/2019</td>\n",
       "      <td>Chicken</td>\n",
       "      <td>VEG</td>\n",
       "    </tr>\n",
       "    <tr>\n",
       "      <th>5</th>\n",
       "      <td>4/1/2019</td>\n",
       "      <td>Chicken</td>\n",
       "      <td>Turkey</td>\n",
       "    </tr>\n",
       "    <tr>\n",
       "      <th>6</th>\n",
       "      <td>4/2/2019</td>\n",
       "      <td>Chicken, Turkey</td>\n",
       "      <td>Chicken, Shrimp</td>\n",
       "    </tr>\n",
       "    <tr>\n",
       "      <th>7</th>\n",
       "      <td>4/3/2019</td>\n",
       "      <td>Turkey, Salmon</td>\n",
       "      <td>Chicken, Salmon</td>\n",
       "    </tr>\n",
       "    <tr>\n",
       "      <th>8</th>\n",
       "      <td>4/4/2019</td>\n",
       "      <td>NaN</td>\n",
       "      <td>NaN</td>\n",
       "    </tr>\n",
       "    <tr>\n",
       "      <th>9</th>\n",
       "      <td>4/5/2019</td>\n",
       "      <td>NaN</td>\n",
       "      <td>NaN</td>\n",
       "    </tr>\n",
       "    <tr>\n",
       "      <th>10</th>\n",
       "      <td>4/6/2019</td>\n",
       "      <td>NaN</td>\n",
       "      <td>NaN</td>\n",
       "    </tr>\n",
       "    <tr>\n",
       "      <th>11</th>\n",
       "      <td>4/7/2019</td>\n",
       "      <td>NaN</td>\n",
       "      <td>NaN</td>\n",
       "    </tr>\n",
       "    <tr>\n",
       "      <th>12</th>\n",
       "      <td>4/8/2019</td>\n",
       "      <td>NaN</td>\n",
       "      <td>NaN</td>\n",
       "    </tr>\n",
       "    <tr>\n",
       "      <th>13</th>\n",
       "      <td>4/9/2019</td>\n",
       "      <td>NaN</td>\n",
       "      <td>NaN</td>\n",
       "    </tr>\n",
       "    <tr>\n",
       "      <th>14</th>\n",
       "      <td>4/10/2019</td>\n",
       "      <td>NaN</td>\n",
       "      <td>NaN</td>\n",
       "    </tr>\n",
       "    <tr>\n",
       "      <th>15</th>\n",
       "      <td>4/11/2019</td>\n",
       "      <td>NaN</td>\n",
       "      <td>NaN</td>\n",
       "    </tr>\n",
       "    <tr>\n",
       "      <th>16</th>\n",
       "      <td>4/12/2019</td>\n",
       "      <td>NaN</td>\n",
       "      <td>NaN</td>\n",
       "    </tr>\n",
       "    <tr>\n",
       "      <th>17</th>\n",
       "      <td>4/13/2019</td>\n",
       "      <td>NaN</td>\n",
       "      <td>NaN</td>\n",
       "    </tr>\n",
       "    <tr>\n",
       "      <th>18</th>\n",
       "      <td>4/14/2019</td>\n",
       "      <td>NaN</td>\n",
       "      <td>NaN</td>\n",
       "    </tr>\n",
       "    <tr>\n",
       "      <th>19</th>\n",
       "      <td>4/15/2019</td>\n",
       "      <td>NaN</td>\n",
       "      <td>NaN</td>\n",
       "    </tr>\n",
       "    <tr>\n",
       "      <th>20</th>\n",
       "      <td>4/16/2019</td>\n",
       "      <td>NaN</td>\n",
       "      <td>NaN</td>\n",
       "    </tr>\n",
       "    <tr>\n",
       "      <th>21</th>\n",
       "      <td>4/17/2019</td>\n",
       "      <td>NaN</td>\n",
       "      <td>NaN</td>\n",
       "    </tr>\n",
       "    <tr>\n",
       "      <th>22</th>\n",
       "      <td>4/18/2019</td>\n",
       "      <td>NaN</td>\n",
       "      <td>NaN</td>\n",
       "    </tr>\n",
       "    <tr>\n",
       "      <th>23</th>\n",
       "      <td>4/19/2019</td>\n",
       "      <td>NaN</td>\n",
       "      <td>NaN</td>\n",
       "    </tr>\n",
       "    <tr>\n",
       "      <th>24</th>\n",
       "      <td>4/20/2019</td>\n",
       "      <td>NaN</td>\n",
       "      <td>NaN</td>\n",
       "    </tr>\n",
       "    <tr>\n",
       "      <th>25</th>\n",
       "      <td>4/21/2019</td>\n",
       "      <td>NaN</td>\n",
       "      <td>NaN</td>\n",
       "    </tr>\n",
       "    <tr>\n",
       "      <th>26</th>\n",
       "      <td>4/22/2019</td>\n",
       "      <td>NaN</td>\n",
       "      <td>NaN</td>\n",
       "    </tr>\n",
       "    <tr>\n",
       "      <th>27</th>\n",
       "      <td>4/23/2019</td>\n",
       "      <td>NaN</td>\n",
       "      <td>NaN</td>\n",
       "    </tr>\n",
       "    <tr>\n",
       "      <th>28</th>\n",
       "      <td>4/24/2019</td>\n",
       "      <td>NaN</td>\n",
       "      <td>NaN</td>\n",
       "    </tr>\n",
       "    <tr>\n",
       "      <th>29</th>\n",
       "      <td>4/25/2019</td>\n",
       "      <td>NaN</td>\n",
       "      <td>NaN</td>\n",
       "    </tr>\n",
       "    <tr>\n",
       "      <th>30</th>\n",
       "      <td>4/26/2019</td>\n",
       "      <td>NaN</td>\n",
       "      <td>NaN</td>\n",
       "    </tr>\n",
       "    <tr>\n",
       "      <th>31</th>\n",
       "      <td>4/27/2019</td>\n",
       "      <td>NaN</td>\n",
       "      <td>NaN</td>\n",
       "    </tr>\n",
       "  </tbody>\n",
       "</table>\n",
       "</div>"
      ],
      "text/plain": [
       "         Date               Alex                 Andrea\n",
       "0   3/27/2019       Chicken, Pig           Chicken, Pig\n",
       "1   3/28/2019       Dorade, Lamb  Dorade, Lamb, Chicken\n",
       "2   3/29/2019  Chicken, Pig, Cow                   Lamb\n",
       "3   3/30/2019    Chicken, Shrimp        Chicken, Shrimp\n",
       "4   3/31/2019            Chicken                    VEG\n",
       "5    4/1/2019            Chicken                 Turkey\n",
       "6    4/2/2019    Chicken, Turkey        Chicken, Shrimp\n",
       "7    4/3/2019     Turkey, Salmon        Chicken, Salmon\n",
       "8    4/4/2019                NaN                    NaN\n",
       "9    4/5/2019                NaN                    NaN\n",
       "10   4/6/2019                NaN                    NaN\n",
       "11   4/7/2019                NaN                    NaN\n",
       "12   4/8/2019                NaN                    NaN\n",
       "13   4/9/2019                NaN                    NaN\n",
       "14  4/10/2019                NaN                    NaN\n",
       "15  4/11/2019                NaN                    NaN\n",
       "16  4/12/2019                NaN                    NaN\n",
       "17  4/13/2019                NaN                    NaN\n",
       "18  4/14/2019                NaN                    NaN\n",
       "19  4/15/2019                NaN                    NaN\n",
       "20  4/16/2019                NaN                    NaN\n",
       "21  4/17/2019                NaN                    NaN\n",
       "22  4/18/2019                NaN                    NaN\n",
       "23  4/19/2019                NaN                    NaN\n",
       "24  4/20/2019                NaN                    NaN\n",
       "25  4/21/2019                NaN                    NaN\n",
       "26  4/22/2019                NaN                    NaN\n",
       "27  4/23/2019                NaN                    NaN\n",
       "28  4/24/2019                NaN                    NaN\n",
       "29  4/25/2019                NaN                    NaN\n",
       "30  4/26/2019                NaN                    NaN\n",
       "31  4/27/2019                NaN                    NaN"
      ]
     },
     "execution_count": 185,
     "metadata": {},
     "output_type": "execute_result"
    }
   ],
   "source": [
    "animal"
   ]
  },
  {
   "cell_type": "code",
   "execution_count": 186,
   "metadata": {},
   "outputs": [],
   "source": [
    "animal = pd.read_csv('a_a_animal.csv')\n",
    "animal = animal.loc[:7].copy()\n",
    "animal['Alex Count'] = ''\n",
    "animal['Andrea Count'] = ''\n",
    "animal.loc[(animal['Alex']=='VEG'),'Alex Count'] = 0\n",
    "animal.loc[(animal['Andrea']=='VEG'),'Andrea Count'] = 0\n",
    "animal['Date'] = pd.to_datetime(animal['Date']).apply(lambda x:x.strftime(\"%-m/%-d\"))\n",
    "\n",
    "animal['Alex'],animal['Andrea'] = [animal[us].apply(lambda x: x.split(',')) for us in ['Alex','Andrea']]\n",
    "animal.loc[animal['Andrea'].apply(lambda x:x[0]!='VEG'),'Andrea Count'] = animal.loc[animal['Andrea'].apply(lambda x:x[0]!='VEG'),'Andrea'].apply(lambda x: len(x))\n",
    "animal.loc[animal['Alex'].apply(lambda x:x[0]!='VEG'),'Alex Count'] = animal.loc[animal['Alex'].apply(lambda x:x[0]!='VEG'),'Alex'].apply(lambda x: len(x))"
   ]
  },
  {
   "cell_type": "code",
   "execution_count": 194,
   "metadata": {},
   "outputs": [
    {
     "data": {
      "image/png": "[encoded data removed]",
      "text/plain": [
       "<matplotlib.figure.Figure at 0x1a21ef8eb8>"
      ]
     },
     "metadata": {},
     "output_type": "display_data"
    }
   ],
   "source": [
    "animal_chart = charts_function_list.chart_maker(title='Unique Animal Species Eaten Each Day',title_size=24)\n",
    "fig = animal_chart.initial_fig_axis()\n",
    "ax = animal_chart.axes_set_up(fig=fig)\n",
    "ax.plot(animal.index,animal['Alex Count'].values,linewidth=2,label='Alex',color='#ED289E',alpha=.6,linestyle='--',zorder=2)\n",
    "ax.plot(animal.index,animal['Andrea Count'].values,linewidth=2,label='Andrea',color='#54A7AE',zorder=1)\n",
    "ax.legend(fontsize=15)\n",
    "\n",
    "yticks = ax.set_yticks([int(x) for x in ax.get_yticks()[[x == 0 for x in ax.get_yticks()%1]]])\n",
    "xtickslabels = ax.set_xticklabels(['']+list(animal['Date'].values))\n",
    "ax.set_xlabel('Date',fontsize=18,alpha=.7)\n",
    "ax.set_ylabel('Unique Species',fontsize=18,alpha=.7)\n",
    "animal_chart.tick_params_(ax=ax)"
   ]
  },
  {
   "cell_type": "code",
   "execution_count": 80,
   "metadata": {},
   "outputs": [],
   "source": [
    "animal['Alex Animals'] = animal['Alex'].apply(lambda x: len(x))\n",
    "animal['Andrea Animals'] = animal['Andrea'].apply(lambda x: len(x))"
   ]
  },
  {
   "cell_type": "code",
   "execution_count": 90,
   "metadata": {},
   "outputs": [],
   "source": [
    "animal.loc[(animal['Alex']!='VEG'),'Alex Count'] = animal.loc[(animal['Alex']!='VEG'),'Alex'].apply(lambda x: len(x))\n",
    "animal.loc[(animal['Andrea']!='VEG'),'Andrea Count'] = animal.loc[(animal['Andrea']!='VEG'),'Andrea'].apply(lambda x: len(x))"
   ]
  },
  {
   "cell_type": "code",
   "execution_count": 95,
   "metadata": {},
   "outputs": [
    {
     "data": {
      "text/html": [
       "<div>\n",
       "<style scoped>\n",
       "    .dataframe tbody tr th:only-of-type {\n",
       "        vertical-align: middle;\n",
       "    }\n",
       "\n",
       "    .dataframe tbody tr th {\n",
       "        vertical-align: top;\n",
       "    }\n",
       "\n",
       "    .dataframe thead th {\n",
       "        text-align: right;\n",
       "    }\n",
       "</style>\n",
       "<table border=\"1\" class=\"dataframe\">\n",
       "  <thead>\n",
       "    <tr style=\"text-align: right;\">\n",
       "      <th></th>\n",
       "      <th>Date</th>\n",
       "      <th>Alex</th>\n",
       "      <th>Andrea</th>\n",
       "      <th>Alex Count</th>\n",
       "      <th>Andrea Count</th>\n",
       "    </tr>\n",
       "  </thead>\n",
       "  <tbody>\n",
       "  </tbody>\n",
       "</table>\n",
       "</div>"
      ],
      "text/plain": [
       "Empty DataFrame\n",
       "Columns: [Date, Alex, Andrea, Alex Count, Andrea Count]\n",
       "Index: []"
      ]
     },
     "execution_count": 95,
     "metadata": {},
     "output_type": "execute_result"
    }
   ],
   "source": [
    "animal.loc[(animal['Andrea']=='VEG')]"
   ]
  },
  {
   "cell_type": "code",
   "execution_count": 94,
   "metadata": {},
   "outputs": [
    {
     "data": {
      "text/plain": [
       "0"
      ]
     },
     "execution_count": 94,
     "metadata": {},
     "output_type": "execute_result"
    }
   ],
   "source": [
    "len([])"
   ]
  },
  {
   "cell_type": "code",
   "execution_count": 44,
   "metadata": {},
   "outputs": [
    {
     "data": {
      "text/plain": [
       "0          [Chicken,  Pig]\n",
       "1          [Dorade,  Lamb]\n",
       "2    [Chicken,  Pig,  Cow]\n",
       "3       [Chicken,  Shrimp]\n",
       "4                [Chicken]\n",
       "5                [Chicken]\n",
       "Name: Alex, dtype: object"
      ]
     },
     "execution_count": 44,
     "metadata": {},
     "output_type": "execute_result"
    }
   ],
   "source": [
    "partial['Alex']"
   ]
  },
  {
   "cell_type": "code",
   "execution_count": null,
   "metadata": {
    "collapsed": true
   },
   "outputs": [],
   "source": []
  }
 ],
 "metadata": {
  "kernelspec": {
   "display_name": "Python 3",
   "language": "python",
   "name": "python3"
  },
  "language_info": {
   "codemirror_mode": {
    "name": "ipython",
    "version": 3
   },
   "file_extension": ".py",
   "mimetype": "text/x-python",
   "name": "python",
   "nbconvert_exporter": "python",
   "pygments_lexer": "ipython3",
   "version": "3.6.2"
  }
 },
 "nbformat": 4,
 "nbformat_minor": 2
}
