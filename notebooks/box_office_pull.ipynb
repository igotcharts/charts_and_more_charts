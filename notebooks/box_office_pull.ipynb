{
 "cells": [
  {
   "cell_type": "code",
   "execution_count": 1,
   "metadata": {
    "collapsed": true
   },
   "outputs": [],
   "source": [
    "import requests\n",
    "from bs4 import BeautifulSoup\n",
    "from urllib.request import urlopen\n",
    "import os\n",
    "import seaborn as sns\n",
    "import charts_function_list\n",
    "_,data,outputs = charts_function_list.folder_setup()"
   ]
  },
  {
   "cell_type": "markdown",
   "metadata": {},
   "source": [
    "### Functions for pulling films and *unstructured* actors"
   ]
  },
  {
   "cell_type": "code",
   "execution_count": 472,
   "metadata": {
    "collapsed": true
   },
   "outputs": [],
   "source": [
    "def box_office_mojo_compile(year):\n",
    "    url = 'http://www.boxofficemojo.com/yearly/chart/?yr='+str(year)\n",
    "    html = urlopen(url) #get_request\n",
    "    soup = BeautifulSoup(html,\"lxml\")\n",
    "    empty = []\n",
    "    for i in soup.find_all('table')[6]:\n",
    "        empty.append(i.find_all('td'))\n",
    "        \n",
    "    new_empty = []\n",
    "    for x in range(1,101):\n",
    "        empty2 = []\n",
    "        for x2 in range(0,7):\n",
    "            empty2.append(empty[x][x2].text)\n",
    "        year_frame = pd.DataFrame([empty2],\n",
    "                                  columns=['Rank','Title','Studio','Total Gross','Theaters','Opening','Opening Theaters'])\n",
    "        year_frame['Year']=year\n",
    "        year_frame['Rank']=year_frame['Rank'].astype('int')\n",
    "        year_frame['link']=empty[x][1].find('a').get('href')\n",
    "        new_empty.append(year_frame)\n",
    "    return pd.concat(new_empty)\n",
    "\n",
    "def top_actors(movie):\n",
    "    url = 'http://www.boxofficemojo.com'+movie\n",
    "    html = urlopen(url) #get_request\n",
    "    \n",
    "    soup = BeautifulSoup(html,\"lxml\")\n",
    "    body = soup.find(\"div\",{\"id\":\"body\"})\n",
    "    table1 = body.find(\"table\")\n",
    "    \n",
    "    \n",
    "    cast_crew = []\n",
    "    for x in table1.findAll('font'):\n",
    "        cast_crew.append(x.getText())\n",
    "    \n",
    "    frame = pd.DataFrame(cast_crew)\n",
    "    return frame.loc[frame[frame[0].str.contains('Actor')].index[0]+1].values[0]\n",
    "    \n",
    "    "
   ]
  },
  {
   "cell_type": "markdown",
   "metadata": {},
   "source": [
    "### Compile table for Top 100 in Box Office Mojo by year"
   ]
  },
  {
   "cell_type": "code",
   "execution_count": 428,
   "metadata": {
    "collapsed": true
   },
   "outputs": [],
   "source": [
    "all_years = []\n",
    "for x in range(1980,2018):\n",
    "    all_years.append(box_office_mojo_compile(x))\n",
    "all_year = pd.concat(all_years)\n",
    "\n",
    "#top 5\n",
    "top_5_by_year =all_year[all_year['Rank']<=5].reset_index(drop=True)\n"
   ]
  },
  {
   "cell_type": "markdown",
   "metadata": {},
   "source": [
    "### Compile Top 5 by year with pull of actors (albeit with errors!)"
   ]
  },
  {
   "cell_type": "code",
   "execution_count": 491,
   "metadata": {},
   "outputs": [],
   "source": [
    "empty = []\n",
    "for title,link in zip(top_5_by_year['Title'],top_5_by_year['link']):\n",
    "    try: \n",
    "        empty.append(top_actors(link))\n",
    "    except:\n",
    "        empty.append(\"ERROR FOR: \"+title)\n",
    "    \n",
    "top_5_by_year['Actors']=empty"
   ]
  },
  {
   "cell_type": "markdown",
   "metadata": {},
   "source": [
    "### Export"
   ]
  },
  {
   "cell_type": "code",
   "execution_count": 502,
   "metadata": {},
   "outputs": [],
   "source": [
    "os.chdir(outputs)\n",
    "all_year.to_csv('top_100_films.csv')\n",
    "top_5_by_year.to_csv('Top_5.csv')"
   ]
  }
 ],
 "metadata": {
  "kernelspec": {
   "display_name": "Python 3",
   "language": "python",
   "name": "python3"
  },
  "language_info": {
   "codemirror_mode": {
    "name": "ipython",
    "version": 3
   },
   "file_extension": ".py",
   "mimetype": "text/x-python",
   "name": "python",
   "nbconvert_exporter": "python",
   "pygments_lexer": "ipython3",
   "version": "3.6.2"
  }
 },
 "nbformat": 4,
 "nbformat_minor": 2
}
