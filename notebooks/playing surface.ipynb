{
 "cells": [
  {
   "cell_type": "code",
   "execution_count": 1,
   "metadata": {
    "collapsed": true
   },
   "outputs": [],
   "source": [
    "import requests\n",
    "import re\n",
    "from bs4 import BeautifulSoup\n",
    "from urllib.request import urlopen\n",
    "import os\n",
    "import seaborn as sns\n",
    "import charts_function_list\n",
    "from functools import reduce\n",
    "_,data,outputs = charts_function_list.folder_setup()"
   ]
  },
  {
   "cell_type": "markdown",
   "metadata": {},
   "source": [
    "### Frame to pull data fields for pro football reference"
   ]
  },
  {
   "cell_type": "code",
   "execution_count": 10,
   "metadata": {
    "collapsed": true
   },
   "outputs": [],
   "source": [
    "def main_pull(url,type_ = str):\n",
    "    index_list = []\n",
    "    url_list = []\n",
    "    #set counter\n",
    "    count = 0\n",
    "    #\n",
    "    url = url\n",
    "    html = urlopen(url) #get_request\n",
    "    soup = BeautifulSoup(html,\"lxml\")\n",
    "    #pull the URL from the Pro Football Reference page you specify\n",
    "    #returns the URL and something to index on\n",
    "    for tr in soup.select('tbody'):\n",
    "        for th in tr.find_all('th'):\n",
    "            for a in th.find_all('a',href=True):\n",
    "                try:\n",
    "                    index_list.append(type_(a.get_text()))\n",
    "                    url_list.append(base+a['href'])\n",
    "   \n",
    "                except:\n",
    "                    pass\n",
    "                    count-=1\n",
    "                \n",
    "                count+=1\n",
    "                \n",
    "                \n",
    "    return count,index_list,url_list\n",
    "\n",
    "\n",
    "base = 'https://www.pro-football-reference.com'\n",
    "\n",
    "#create list of current teams and the URL to their page\n",
    "teams,urls = main_pull(url='https://www.pro-football-reference.com/teams/')[1:]\n",
    "\n",
    "#pull seasons and season url, create count of seasons\n",
    "season_count = []\n",
    "for urls_ in urls:\n",
    "    counts,season,season_url = main_pull(type_=int,url=urls_)\n",
    "    season_count.append(counts)\n",
    "    \n",
    "#match the list to \n",
    "full_teams = [v for item,v in enumerate(teams) for x in range(season_count[item])]\n",
    "\n",
    "\n",
    "\n",
    "stadium = []\n",
    "stadium_url = []\n",
    "\n",
    "\n",
    "for url in season_url:\n",
    "    url = url\n",
    "    html = urlopen(url) #get_request\n",
    "    soup = BeautifulSoup(html,\"lxml\")\n",
    "    \n",
    "    texts = []\n",
    "\n",
    "    for tr in soup.select('p'):\n",
    "        for strong in tr.find_all('strong'):\n",
    "            texts.append(strong.get_text())\n",
    "            \n",
    "    if (True in pd.Series(texts).isin(['Stadium:']).unique()) is False:\n",
    "                stadium_url.append('')\n",
    "                stadium.append('')\n",
    "    else:\n",
    "\n",
    "\n",
    "        for tr in soup.select('p'):\n",
    "            for strong in tr.find_all('strong'):\n",
    "                if strong.get_text()=='Stadium:':\n",
    "                    for a in tr.find_all('a'):\n",
    "                        stadium_url.append((a['href']))\n",
    "                        stadium.append(a.get_text())\n",
    "                else: \n",
    "                    pass\n",
    "\n",
    "surface = []\n",
    "\n",
    "for url in stadium_url:\n",
    "    \n",
    "    try:\n",
    "        html = urlopen(url) #get_request\n",
    "        soup = BeautifulSoup(html,\"lxml\")\n",
    "        for tr in soup.select('p'):\n",
    "            for bold in tr.find_all('b'):\n",
    "                if bold.get_text()=='Surfaces:':\n",
    "                    surface_text = (tr.get_text())\n",
    "                    surface.append(surface_text.split(':')[1])                    \n",
    "    except:\n",
    "        surface.append('')\n",
    "        pass\n",
    "                \n",
    "season_frame = pd.DataFrame({'Teams':full_teams,\n",
    "                    'Season':season,\n",
    "                    'Season URL':season_url,\n",
    "                            'Stadium':stadium,\n",
    "                            'Stadium_url':stadium_url,\n",
    "                            'Surfaces':surface})\n",
    "\n",
    "os.chdir(outputs)\n",
    "season_frame.to_csv('season_frame_initial.csv')"
   ]
  },
  {
   "cell_type": "markdown",
   "metadata": {},
   "source": [
    "### Load data full frame and fix some missing fields"
   ]
  },
  {
   "cell_type": "code",
   "execution_count": 1021,
   "metadata": {
    "collapsed": true
   },
   "outputs": [],
   "source": [
    "season_frame = pd.read_csv('season_frame_initial.csv',index_col=0).drop('Unnamed: 0.1',axis=1)\n",
    "season_frame['Surface'] = season_frame['Surface'].fillna('-')\n",
    "to_research = season_frame[season_frame['Stadium'].isnull()].copy()\n",
    "locations = to_research.index\n",
    "\n",
    "season_frame.loc[locations[0],['Stadium','Stadium_url','Surface']]=['Metropolitan Field/Soldier Field','https://www.pro-football-reference.com/stadiums/MIN99.htm','grass (1959-1981)']\n",
    "season_frame.loc[locations[1:3],['Stadium','Stadium_url','Surface']]=['Normal Park','https://www.pro-football-reference.com/stadiums/CHI94.htm','grass (1920-1928)']\n",
    "season_frame.loc[locations[3],['Stadium','Stadium_url','Surface']]=['Mercedes-Benz Stadium','https://www.pro-football-reference.com/stadiums/ATL97.htm','fieldturf (2017)']\n",
    "season_frame.loc[locations[4],['Stadium','Stadium_url','Surface']]=['Staley Field/Cubs Fields','https://www.pro-football-reference.com/stadiums/CHI96.htm','grass (1920-1970)']\n",
    "season_frame.loc[locations[5],['Stadium','Stadium_url','Surface']]=['Staley Field','https://www.pro-football-reference.com/stadiums/CHI93.htm','grass (1920)']\n",
    "#Location not found on pro football reference but first noted on wikipedia, corroborated at https://www.mlb.com/tigers/history/ballparks\n",
    "season_frame.loc[locations[6],['Stadium','Stadium_url','Surface']]=['University of Detroit Stadium','https://www.pro-football-reference.com/stadiums/DET97.htm','grass (1928-1940)']\n",
    "season_frame.loc[locations[7],['Stadium','Stadium_url','Surface']]=['Hagemeister Park','https://www.pro-football-reference.com/stadiums/GNB97.htm','grass (1921-1922)']\n",
    "season_frame.loc[locations[8],['Stadium','Stadium_url','Surface']]=['TCF Bank Stadium','https://www.pro-football-reference.com/stadiums/MIN98.htm','fieldturf (2010-2017)']\n",
    "season_frame.loc[locations[9],['Stadium','Stadium_url','Surface']]=['Philadelphia Municipal Stadium','https://www.pro-football-reference.com/stadiums/PHI96.htm','grass (1931-1950)']\n",
    "season_frame.loc[locations[10],['Stadium','Stadium_url','Surface']]=['Levi\\'s Stadium','https://www.pro-football-reference.com/stadiums/SFO01.htm','grass (2014-2017)']\n",
    "\n",
    "#two more known error\n",
    "season_frame.loc[933,['Stadium','Stadium_url','Surface']]= ['StubHub Center','https://www.pro-football-reference.com/stadiums/LAX97.htm','grass (2017)']\n",
    "season_frame.loc[1426,['Surface']]= 'grass (1964-1983)'"
   ]
  },
  {
   "cell_type": "code",
   "execution_count": 1022,
   "metadata": {
    "collapsed": true
   },
   "outputs": [],
   "source": [
    "\n",
    "def surface_appender(value):\n",
    "    empty_list = []\n",
    "    for item in season_frame['Surface'].str.split(\",\"):\n",
    "        \n",
    "        #split each field summary and set as a list\n",
    "        fields=item\n",
    "        \n",
    "        #try to append a certain length of the list to create a new array for later use\n",
    "        try:\n",
    "            empty_list.append(fields[value])\n",
    "        #if it's not as long as the specified value, append nothingness\n",
    "        except:\n",
    "            empty_list.append(nan)\n",
    "    return empty_list\n",
    "\n",
    "season_frame = pd.merge(season_frame,pd.DataFrame({'Surface 1':surface_appender(0),\n",
    "                     'Surface 2':surface_appender(1),\n",
    "                     'Surface 3':surface_appender(2),\n",
    "                     'Surface 4':surface_appender(3),\n",
    "                     'Surface 5':surface_appender(4)}),left_index=True,right_index=True,how='left')\n",
    "\n",
    "#function to split columns by - and () to get seasons\n",
    "def column_split_strip(df,column):\n",
    "    surface_split = df[column].str.split('-|\\)|\\(',expand=True).loc[:,0:2]\n",
    "    surface_split[0]= surface_split[0].str.strip()\n",
    "    surface_split.columns = [column,'Start_Year_'+column,'End_Year_'+column]\n",
    "    surface_split = surface_split.replace({'':nan})\n",
    "    surface_split['End_Year_'+column] = surface_split[['End_Year_'+column]].fillna(2018)\n",
    "    surface_split[[column,'Start_Year_'+column]] = surface_split[[column,'Start_Year_'+column]].fillna(0)\n",
    "    surface_split[['Start_Year_'+column,'End_Year_'+column]] = surface_split[['Start_Year_'+column,'End_Year_'+column]].astype('int')\n",
    "    return surface_split\n",
    "\n",
    "#pull full field set-up\n",
    "full_fields = reduce(lambda x,y:pd.merge(left=x,right=y,\n",
    "                          left_index=True, right_index=True,how='left'),\n",
    "       [column_split_strip(season_frame,x) for x in ['Surface 1','Surface 2','Surface 3','Surface 4','Surface 5']])\n",
    "\n",
    "season_frame = pd.merge(left=season_frame,right=full_fields,left_index=True,right_index=True,how='left').drop(['Surface 1_x',\n",
    "                                                                                              'Surface 2_x','Surface 3_x',\n",
    "                                                                                              'Surface 4_x',\n",
    "                                                                                               'Surface 5_x'],axis=1)\n",
    "\n",
    "\n",
    "#cleaning up fields with single year surfaces\n",
    "\n",
    "season_frame.loc[(season_frame['End_Year_Surface 1']==2018)&(season_frame['Start_Year_Surface 2']!=0),\n",
    "                 'End_Year_Surface 1'] =season_frame.loc[(season_frame['End_Year_Surface 1']==2018)&(season_frame['Start_Year_Surface 2']!=0),\n",
    "                 'Start_Year_Surface 1']\n",
    "\n",
    "season_frame.loc[(season_frame['End_Year_Surface 2']==2018)&(season_frame['Start_Year_Surface 3']!=0),\n",
    "                 'End_Year_Surface 2'] =season_frame.loc[(season_frame['End_Year_Surface 2']==2018)&(season_frame['Start_Year_Surface 3']!=0),\n",
    "                 'Start_Year_Surface 2']\n",
    "\n",
    "\n",
    "season_frame.loc[(season_frame['End_Year_Surface 3']==2018)&(season_frame['Start_Year_Surface 4']!=0),\n",
    "                 'End_Year_Surface 3'] =season_frame.loc[(season_frame['End_Year_Surface 3']==2018)&(season_frame['Start_Year_Surface 4']!=0),\n",
    "                 'Start_Year_Surface 3']\n",
    "\n",
    "\n",
    "season_frame.loc[(season_frame['End_Year_Surface 4']==2018)&(season_frame['Start_Year_Surface 5']!=0),\n",
    "                 'End_Year_Surface 4'] =season_frame.loc[(season_frame['End_Year_Surface 4']==2018)&(season_frame['Start_Year_Surface 5']!=0),\n",
    "                 'Start_Year_Surface 4']\n",
    "\n",
    "\n",
    "def field_assignment(df):\n",
    "    if (df['Season']>=df['Start_Year_Surface 1']) & (df['Season']<=df['End_Year_Surface 1']) & (df['Surface 1_y']!=0):\n",
    "        return df['Surface 1_y']\n",
    "    elif (df['Season']>=df['Start_Year_Surface 2']) & (df['Season']<=df['End_Year_Surface 2']) & (df['Surface 2_y']!=0):\n",
    "            return df['Surface 2_y']\n",
    "    elif (df['Season']>=df['Start_Year_Surface 3']) & (df['Season']<=df['End_Year_Surface 3'])& (df['Surface 3_y']!=0):\n",
    "            return df['Surface 3_y']\n",
    "    elif (df['Season']>=df['Start_Year_Surface 4']) & (df['Season']<=df['End_Year_Surface 4'])& (df['Surface 4_y']!=0):\n",
    "            return df['Surface 4_y']\n",
    "    elif (df['Season']>=df['Start_Year_Surface 5']) & (df['Season']<=df['End_Year_Surface 5'])& (df['Surface 5_y']!=0):\n",
    "            return df['Surface 5_y']\n",
    "    else:\n",
    "        return 'error'\n",
    "    \n",
    "season_frame['Actual Surface'] = season_frame.apply(field_assignment,axis=1)"
   ]
  },
  {
   "cell_type": "code",
   "execution_count": 1057,
   "metadata": {
    "collapsed": true
   },
   "outputs": [],
   "source": [
    "season_frame = pd.concat([season_frame,pd.DataFrame({'Season':[1943,1944],\n",
    "              'Stadium':['Mixed' for x in range(2)],\n",
    "              'Teams':['Pittsburgh Steelers' for x in range(2)],\n",
    "                      'Actual Surface':['grass' for x in range(2)]},index=[len(season_frame),len(season_frame)+1])])"
   ]
  },
  {
   "cell_type": "code",
   "execution_count": 1074,
   "metadata": {
    "collapsed": true
   },
   "outputs": [],
   "source": [
    "cleaned_season_frame = season_frame[['Season','Stadium','Teams','Actual Surface']].copy()\n",
    "cleaned_season_frame.to_csv('clean_stadium_fields.csv')"
   ]
  },
  {
   "cell_type": "markdown",
   "metadata": {},
   "source": [
    "### Visualizing the fields"
   ]
  },
  {
   "cell_type": "code",
   "execution_count": 1075,
   "metadata": {},
   "outputs": [],
   "source": [
    "#create new index for ordering teams by length\n",
    "teams_in_season_order = cleaned_season_frame.groupby('Teams').size().sort_values().index\n",
    "cleaned_season_frame['Order'] = cleaned_season_frame['Teams'].map({v:i+1 for i,v in enumerate(teams_in_season_order)})\n",
    "cleaned_season_frame.set_index(['Order'],inplace=True)"
   ]
  },
  {
   "cell_type": "markdown",
   "metadata": {},
   "source": [
    "### Create surface colors"
   ]
  },
  {
   "cell_type": "code",
   "execution_count": 1106,
   "metadata": {
    "collapsed": true
   },
   "outputs": [],
   "source": [
    "fields = cleaned_season_frame['Actual Surface'].unique()\n",
    "colors = ['#41ab5d','#deebf7','#c6dbef','#08306b','#f7fbff',\n",
    "'#9ecae1','#6baed6','#4292c6','#2171b5','#a1d99b',\n",
    "'#08519c']\n",
    "\n",
    "field_map = {fields[x]:colors[x] for x in range(len(colors))}\n",
    "field_colors = cleaned_season_frame['Actual Surface'].map(field_map)"
   ]
  },
  {
   "cell_type": "code",
   "execution_count": 1109,
   "metadata": {},
   "outputs": [
    {
     "data": {
      "image/png": "[encoded data removed]",
      "text/plain": [
       "<matplotlib.figure.Figure at 0x1a1df1eb38>"
      ]
     },
     "metadata": {},
     "output_type": "display_data"
    }
   ],
   "source": [
    "cleaned_season_frame\n",
    "fig = plt.figure(figsize=(11,8))\n",
    "ax = fig.add_subplot(111)\n",
    "plt.barh(bottom=cleaned_season_frame.index,width=[1 for x in range(1968)],height=1,\n",
    "         left=cleaned_season_frame['Season'],color=field_colors)\n",
    "\n",
    "#ylabels : teams_in_season_order\n",
    "plt.show()"
   ]
  },
  {
   "cell_type": "code",
   "execution_count": 1010,
   "metadata": {
    "collapsed": true
   },
   "outputs": [],
   "source": [
    "#finding the max different surfaces on a single stadium\n",
    "surface_counts = []\n",
    "\n",
    "for item in season_frame['Surface'].str.split(','):\n",
    "    surface_counts.append(len(item))\n",
    "   \n",
    "max_surfaces = np.max(surface_counts)"
   ]
  },
  {
   "cell_type": "code",
   "execution_count": 1059,
   "metadata": {},
   "outputs": [
    {
     "data": {
      "text/plain": [
       "5"
      ]
     },
     "execution_count": 1059,
     "metadata": {},
     "output_type": "execute_result"
    }
   ],
   "source": []
  },
  {
   "cell_type": "code",
   "execution_count": null,
   "metadata": {
    "collapsed": true
   },
   "outputs": [],
   "source": []
  }
 ],
 "metadata": {
  "kernelspec": {
   "display_name": "Python 3",
   "language": "python",
   "name": "python3"
  },
  "language_info": {
   "codemirror_mode": {
    "name": "ipython",
    "version": 3
   },
   "file_extension": ".py",
   "mimetype": "text/x-python",
   "name": "python",
   "nbconvert_exporter": "python",
   "pygments_lexer": "ipython3",
   "version": "3.6.2"
  }
 },
 "nbformat": 4,
 "nbformat_minor": 2
}
