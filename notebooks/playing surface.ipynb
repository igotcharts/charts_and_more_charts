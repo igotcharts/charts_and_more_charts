{
 "cells": [
  {
   "cell_type": "code",
   "execution_count": 1,
   "metadata": {
    "collapsed": true
   },
   "outputs": [],
   "source": [
    "import requests\n",
    "import re\n",
    "from bs4 import BeautifulSoup\n",
    "from urllib.request import urlopen\n",
    "import os\n",
    "import seaborn as sns\n",
    "import charts_function_list\n",
    "_,data,outputs = charts_function_list.folder_setup()"
   ]
  },
  {
   "cell_type": "code",
   "execution_count": 10,
   "metadata": {
    "collapsed": true
   },
   "outputs": [],
   "source": [
    "def main_pull(url,type_ = str):\n",
    "    index_list = []\n",
    "    url_list = []\n",
    "    #set counter\n",
    "    count = 0\n",
    "    #\n",
    "    url = url\n",
    "    html = urlopen(url) #get_request\n",
    "    soup = BeautifulSoup(html,\"lxml\")\n",
    "    #pull the URL from the Pro Football Reference page you specify\n",
    "    #returns the URL and something to index on\n",
    "    for tr in soup.select('tbody'):\n",
    "        for th in tr.find_all('th'):\n",
    "            for a in th.find_all('a',href=True):\n",
    "                try:\n",
    "                    index_list.append(type_(a.get_text()))\n",
    "                    url_list.append(base+a['href'])\n",
    "   \n",
    "                except:\n",
    "                    pass\n",
    "                    count-=1\n",
    "                \n",
    "                count+=1\n",
    "                \n",
    "                \n",
    "    return count,index_list,url_list"
   ]
  },
  {
   "cell_type": "code",
   "execution_count": null,
   "metadata": {
    "collapsed": true
   },
   "outputs": [],
   "source": [
    "base = 'https://www.pro-football-reference.com'\n",
    "\n",
    "#create list of current teams and the URL to their page\n",
    "teams,urls = main_pull(url='https://www.pro-football-reference.com/teams/')[1:]\n",
    "\n",
    "#pull seasons and season url, create count of seasons\n",
    "season_count = []\n",
    "for urls_ in urls:\n",
    "    counts,season,season_url = main_pull(type_=int,url=urls_)\n",
    "    season_count.append(counts)\n",
    "    \n",
    "#match the list to \n",
    "full_teams = [v for item,v in enumerate(teams) for x in range(season_count[item])]\n",
    "\n",
    "\n",
    "\n",
    "stadium = []\n",
    "stadium_url = []\n",
    "\n",
    "\n",
    "for url in season_url:\n",
    "    url = url\n",
    "    html = urlopen(url) #get_request\n",
    "    soup = BeautifulSoup(html,\"lxml\")\n",
    "    \n",
    "    texts = []\n",
    "\n",
    "    for tr in soup.select('p'):\n",
    "        for strong in tr.find_all('strong'):\n",
    "            texts.append(strong.get_text())\n",
    "            \n",
    "    if (True in pd.Series(texts).isin(['Stadium:']).unique()) is False:\n",
    "                stadium_url.append('')\n",
    "                stadium.append('')\n",
    "    else:\n",
    "\n",
    "\n",
    "        for tr in soup.select('p'):\n",
    "            for strong in tr.find_all('strong'):\n",
    "                if strong.get_text()=='Stadium:':\n",
    "                    for a in tr.find_all('a'):\n",
    "                        stadium_url.append((a['href']))\n",
    "                        stadium.append(a.get_text())\n",
    "                else: \n",
    "                    pass\n",
    "\n",
    "surface = []\n",
    "\n",
    "for url in stadium_url:\n",
    "    \n",
    "    try:\n",
    "        html = urlopen(url) #get_request\n",
    "        soup = BeautifulSoup(html,\"lxml\")\n",
    "        for tr in soup.select('p'):\n",
    "            for bold in tr.find_all('b'):\n",
    "                if bold.get_text()=='Surfaces:':\n",
    "                    surface_text = (tr.get_text())\n",
    "                    surface.append(surface_text.split(':')[1])                    \n",
    "    except:\n",
    "        surface.append('')\n",
    "        pass\n",
    "                \n",
    "season_frame = pd.DataFrame({'Teams':full_teams,\n",
    "                    'Season':season,\n",
    "                    'Season URL':season_url,\n",
    "                            'Stadium':stadium,\n",
    "                            'Stadium_url':stadium_url,\n",
    "                            'Surfaces':surface})\n",
    "\n",
    "os.chdir(outputs)\n",
    "season_frame.to_csv('season_frame_initial.csv')"
   ]
  },
  {
   "cell_type": "code",
   "execution_count": 138,
   "metadata": {},
   "outputs": [],
   "source": [
    "season_frame = pd.read_csv('season_frame_initial.csv',index_col=0).drop('Unnamed: 0.1',axis=1)"
   ]
  },
  {
   "cell_type": "code",
   "execution_count": 47,
   "metadata": {},
   "outputs": [],
   "source": [
    "#fixin surface column\n",
    "surface_counts = []\n",
    "for item in season_frame.drop(['Unnamed: 0'],axis=1)['Surface'].str.split(\",\"):\n",
    "    surface_counts.append(len(item))"
   ]
  },
  {
   "cell_type": "code",
   "execution_count": 109,
   "metadata": {
    "collapsed": true
   },
   "outputs": [],
   "source": [
    "def surface_appender(value):\n",
    "    empty_list = []\n",
    "    for item in season_frame['Surface'].str.split(\",\"):\n",
    "        fields=item\n",
    "        try:\n",
    "            empty_list.append(fields[value])\n",
    "        except:\n",
    "            empty_list.append('')\n",
    "    return empty_list"
   ]
  },
  {
   "cell_type": "code",
   "execution_count": 141,
   "metadata": {},
   "outputs": [],
   "source": [
    "season_frame = pd.merge(season_frame,pd.DataFrame({'Surface 1':surface_appender(0),\n",
    "                     'Surface 2':surface_appender(1),\n",
    "                     'Surface 3':surface_appender(2),\n",
    "                     'Surface 4':surface_appender(3),\n",
    "                     'Surface 5':surface_appender(4)}),left_index=True,right_index=True,how='left')"
   ]
  },
  {
   "cell_type": "code",
   "execution_count": null,
   "metadata": {
    "collapsed": true
   },
   "outputs": [],
   "source": [
    "#missing stadiums - to research!\n",
    "\n",
    "season_frame[season_frame['Stadium']=='']"
   ]
  },
  {
   "cell_type": "code",
   "execution_count": 452,
   "metadata": {},
   "outputs": [],
   "source": [
    "def column_split_strip(df,column):\n",
    "    surface_split = df[column].str.split('-|\\)|\\(',expand=True).loc[:,0:2]\n",
    "    surface_split[0]= surface_split[0].str.strip()\n",
    "    surface_split.columns = ['Surface','Start Year','End Year']\n",
    "    surface_split = surface_split.replace({'':nan})\n",
    "    surface_split['End Year'] = surface_split[['End Year']].fillna(2018)\n",
    "    #surface_split[['Start Year','End Year']] = surface_split[['Start Year','End Year']].astype('int')\n",
    "    return surface_split\n",
    "    "
   ]
  },
  {
   "cell_type": "code",
   "execution_count": 455,
   "metadata": {},
   "outputs": [],
   "source": [
    "surface_1 = column_split_strip(season_frame,'Surface 1')"
   ]
  }
 ],
 "metadata": {
  "kernelspec": {
   "display_name": "Python 3",
   "language": "python",
   "name": "python3"
  },
  "language_info": {
   "codemirror_mode": {
    "name": "ipython",
    "version": 3
   },
   "file_extension": ".py",
   "mimetype": "text/x-python",
   "name": "python",
   "nbconvert_exporter": "python",
   "pygments_lexer": "ipython3",
   "version": "3.6.2"
  }
 },
 "nbformat": 4,
 "nbformat_minor": 2
}
