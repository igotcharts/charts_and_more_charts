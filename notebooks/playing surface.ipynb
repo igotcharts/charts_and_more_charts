{
 "cells": [
  {
   "cell_type": "code",
   "execution_count": 1,
   "metadata": {
    "collapsed": true
   },
   "outputs": [],
   "source": [
    "import requests\n",
    "import re\n",
    "from bs4 import BeautifulSoup\n",
    "from urllib.request import urlopen\n",
    "import os\n",
    "import seaborn as sns\n",
    "import charts_function_list\n",
    "_,data,outputs = charts_function_list.folder_setup()"
   ]
  },
  {
   "cell_type": "code",
   "execution_count": 387,
   "metadata": {},
   "outputs": [],
   "source": [
    "def main_pull(url,index_list,url_list,type_ = str):\n",
    "    count = 0\n",
    "    url = url\n",
    "    html = urlopen(url) #get_request\n",
    "    soup = BeautifulSoup(html,\"lxml\")\n",
    "    for tr in soup.select('tbody'):\n",
    "        for th in tr.find_all('th'):\n",
    "            for a in th.find_all('a',href=True):\n",
    "                try:\n",
    "                    index_list.append(type_(a.get_text()))\n",
    "                    url_list.append(base+a['href'])\n",
    "   \n",
    "                except:\n",
    "                    pass\n",
    "                    count-=1\n",
    "                \n",
    "                count+=1\n",
    "                \n",
    "                \n",
    "    return count"
   ]
  },
  {
   "cell_type": "code",
   "execution_count": 493,
   "metadata": {},
   "outputs": [],
   "source": [
    "base = 'https://www.pro-football-reference.com'\n",
    "\n",
    "#soup = soup_set_up(url='https://www.pro-football-reference.com/teams/')\n",
    "teams = []\n",
    "urls = []\n",
    "season = []\n",
    "season_url = []\n",
    "season_count = []\n",
    "main_pull(index_list=teams,url_list=urls,url='https://www.pro-football-reference.com/teams/')\n",
    "\n",
    "for urls_ in urls:\n",
    "    pull = main_pull(index_list = season,url_list = season_url,type_=int,url=urls_)\n",
    "    season_count.append(pull)\n",
    "    \n",
    "\n",
    "full_teams = [v for item,v in enumerate(teams) for x in range(season_count[item])]\n",
    "\n",
    "\n",
    "                        "
   ]
  },
  {
   "cell_type": "code",
   "execution_count": null,
   "metadata": {
    "collapsed": true
   },
   "outputs": [],
   "source": [
    "stadium = []\n",
    "stadium_url = []\n",
    "\n",
    "\n",
    "for url in season_url:\n",
    "    url = url\n",
    "    html = urlopen(url) #get_request\n",
    "    soup = BeautifulSoup(html,\"lxml\")\n",
    "    \n",
    "    texts = []\n",
    "\n",
    "    for tr in soup.select('p'):\n",
    "        for strong in tr.find_all('strong'):\n",
    "            texts.append(strong.get_text())\n",
    "            \n",
    "    if (True in pd.Series(texts).isin(['Stadium:']).unique()) is False:\n",
    "                stadium_url.append('')\n",
    "                stadium.append('')\n",
    "    else:\n",
    "\n",
    "\n",
    "        for tr in soup.select('p'):\n",
    "            for strong in tr.find_all('strong'):\n",
    "                if strong.get_text()=='Stadium:':\n",
    "                    for a in tr.find_all('a'):\n",
    "                        stadium_url.append((a['href']))\n",
    "                        stadium.append(a.get_text())\n",
    "                else: \n",
    "                    pass\n",
    "                \n",
    "season_frame = pd.DataFrame({'Teams':full_teams,\n",
    "                    'Season':season,\n",
    "                    'Season URL':season_url,\n",
    "                            'Stadium':stadium,\n",
    "                            'Stadium_url':stadium_url})"
   ]
  },
  {
   "cell_type": "code",
   "execution_count": 710,
   "metadata": {},
   "outputs": [],
   "source": [
    "os.chdir(outputs)\n",
    "season_frame.to_csv('season_frame_initial.csv')"
   ]
  },
  {
   "cell_type": "code",
   "execution_count": 117,
   "metadata": {},
   "outputs": [
    {
     "name": "stdout",
     "output_type": "stream",
     "text": [
      "['Surfaces', ' grass (2006-2017)']\n"
     ]
    }
   ],
   "source": [
    "\n",
    "url = 'https://www.pro-football-reference.com/stadiums/PHO00.htm'\n",
    "html = urlopen(url) #get_request\n",
    "soup = BeautifulSoup(html,\"lxml\")\n",
    "\n",
    "surface = []\n",
    "\n",
    "\n",
    "for tr in soup.select('p'):\n",
    "    \n",
    "    for bold in tr.find_all('b'):\n",
    "        if bold.get_text()=='Surfaces:':\n",
    "            surface_text = (tr.get_text())\n",
    "            print(surface_text.split(':'))\n",
    "           \n",
    "        #else:\n",
    "         #   pass"
   ]
  }
 ],
 "metadata": {
  "kernelspec": {
   "display_name": "Python 3",
   "language": "python",
   "name": "python3"
  },
  "language_info": {
   "codemirror_mode": {
    "name": "ipython",
    "version": 3
   },
   "file_extension": ".py",
   "mimetype": "text/x-python",
   "name": "python",
   "nbconvert_exporter": "python",
   "pygments_lexer": "ipython3",
   "version": "3.6.2"
  }
 },
 "nbformat": 4,
 "nbformat_minor": 2
}
