{
 "cells": [
  {
   "cell_type": "code",
   "execution_count": 1,
   "metadata": {
    "collapsed": true
   },
   "outputs": [],
   "source": [
    "import os\n",
    "from twython import Twython\n",
    "from twython import TwythonStreamer"
   ]
  },
  {
   "cell_type": "code",
   "execution_count": null,
   "metadata": {
    "collapsed": true
   },
   "outputs": [],
   "source": [
    "CONSUMER_KEY = 'YOUR CONSUMER KEY'\n",
    "CONSUMER_SECRET = 'YOUR CONSUMER SECRET'\n",
    "ACCESS_TOKEN = 'YOUR ACCESS TOKEN'\n",
    "ACCESS_SECRET = 'YOUR ACCESS SECRET'"
   ]
  },
  {
   "cell_type": "code",
   "execution_count": null,
   "metadata": {
    "collapsed": true
   },
   "outputs": [],
   "source": [
    "twitter = Twython(CONSUMER_KEY, CONSUMER_SECRET,\n",
    "                  ACCESS_TOKEN, ACCESS_SECRET)"
   ]
  },
  {
   "cell_type": "code",
   "execution_count": null,
   "metadata": {
    "collapsed": true
   },
   "outputs": [],
   "source": [
    "current_dir = os.getcwd()\n",
    "os.chdir('..')\n",
    "base_path = os.getcwd()\n",
    "data_folder = (os.path.join(base_path,'data'))\n",
    "output_folder = (os.path.join(base_path,'outputs'))"
   ]
  },
  {
   "cell_type": "code",
   "execution_count": null,
   "metadata": {
    "collapsed": true
   },
   "outputs": [],
   "source": [
    "os.chdir(data_folder)"
   ]
  },
  {
   "cell_type": "code",
   "execution_count": null,
   "metadata": {
    "collapsed": true
   },
   "outputs": [],
   "source": [
    "nps = pd.read_csv('np_info_full_park.csv')\n",
    "\n",
    "\n",
    "handles = nps['Handle'].values\n",
    "parks = nps['Park'].values\n",
    "\n",
    "park_df = []\n",
    "park_list = nps['Handle'].values\n",
    "for item in range(len(park_list)):\n",
    "    if nps['Handle'].isnull()[item]:\n",
    "        park_frame = pd.DataFrame({'Park':parks[item],'Handle':handles[item],\n",
    "                                   'Users':0},\n",
    "                                  index=[item])\n",
    "        park_df.append(park_frame)\n",
    "        \n",
    "    else:\n",
    "        park_frame = pd.DataFrame({'Park':parks[item],'Handle':handles[item],\n",
    "                                   'Users':twitter.lookup_user(screen_name=handles[item])[0]['followers_count']},\n",
    "                                  index=[item])\n",
    "        park_df.append(park_frame)\n",
    "    \n",
    "    \n",
    "combined_frame = pd.concat(park_df)\n",
    "\n",
    "#merge with counts\n",
    "nps_with_users = pd.merge(left=nps,right=combined_frame,how='left',on = 'Park')\n",
    "nps_with_users.drop(['Handle_y'],axis=1,inplace=True)\n",
    "nps_with_users.rename(columns={'Handle_x':'Handle'},inplace=True)\n",
    "nps_with_users['Handle'].fillna('No Handle',inplace=True)"
   ]
  }
 ],
 "metadata": {
  "kernelspec": {
   "display_name": "Python 2",
   "language": "python",
   "name": "python2"
  },
  "language_info": {
   "codemirror_mode": {
    "name": "ipython",
    "version": 2
   },
   "file_extension": ".py",
   "mimetype": "text/x-python",
   "name": "python",
   "nbconvert_exporter": "python",
   "pygments_lexer": "ipython2",
   "version": "2.7.11"
  }
 },
 "nbformat": 4,
 "nbformat_minor": 0
}
