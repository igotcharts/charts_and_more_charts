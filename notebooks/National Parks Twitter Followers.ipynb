{
 "cells": [
  {
   "cell_type": "code",
   "execution_count": 1,
   "metadata": {
    "collapsed": true
   },
   "outputs": [],
   "source": [
    "import os\n",
    "import pandas as pd\n",
    "import numpy as np\n",
    "from twython import Twython\n",
    "from twython import TwythonStreamer"
   ]
  },
  {
   "cell_type": "code",
   "execution_count": null,
   "metadata": {
    "collapsed": true
   },
   "outputs": [],
   "source": [
    "CONSUMER_KEY = 'YOUR CONSUMER KEY'\n",
    "CONSUMER_SECRET = 'YOUR CONSUMER SECRET'\n",
    "ACCESS_TOKEN = 'YOUR ACCESS TOKEN'\n",
    "ACCESS_SECRET = 'YOUR ACCESS SECRET'"
   ]
  },
  {
   "cell_type": "code",
   "execution_count": null,
   "metadata": {
    "collapsed": true
   },
   "outputs": [],
   "source": [
    "twitter = Twython(CONSUMER_KEY, CONSUMER_SECRET,\n",
    "                  ACCESS_TOKEN, ACCESS_SECRET)"
   ]
  },
  {
   "cell_type": "code",
   "execution_count": null,
   "metadata": {
    "collapsed": true
   },
   "outputs": [],
   "source": [
    "current_dir = os.getcwd()\n",
    "os.chdir('..')\n",
    "base_path = os.getcwd()\n",
    "data_folder = (os.path.join(base_path,'data'))\n",
    "output_folder = (os.path.join(base_path,'outputs'))"
   ]
  },
  {
   "cell_type": "markdown",
   "metadata": {
    "collapsed": true
   },
   "source": [
    "### Load existing NPS data, and fill-in # of followers"
   ]
  },
  {
   "cell_type": "code",
   "execution_count": null,
   "metadata": {
    "collapsed": true
   },
   "outputs": [],
   "source": [
    "os.chdir(data_folder)\n",
    "\n",
    "nps = pd.read_csv('np_info_full_park.csv')\n",
    "\n",
    "\n",
    "handles = nps['Handle'].values\n",
    "parks = nps['Park'].values\n",
    "\n",
    "park_df = []\n",
    "park_list = nps['Handle'].values\n",
    "for item in range(len(park_list)):\n",
    "    if nps['Handle'].isnull()[item]:\n",
    "        park_frame = pd.DataFrame({'Park':parks[item],'Handle':handles[item],\n",
    "                                   'Followers':0},\n",
    "                                  index=[item])\n",
    "        park_df.append(park_frame)\n",
    "        \n",
    "    else:\n",
    "        park_frame = pd.DataFrame({'Park':parks[item],'Handle':handles[item],\n",
    "                                   'Followers':twitter.lookup_user(screen_name=handles[item])[0]['followers_count']},\n",
    "                                  index=[item])\n",
    "        park_df.append(park_frame)\n",
    "    \n",
    "    \n",
    "combined_frame = pd.concat(park_df)\n",
    "\n",
    "#merge with counts\n",
    "nps_with_followers = pd.merge(left=nps,right=combined_frame,how='left',on = 'Park')\n",
    "nps_with_followers.drop(['Handle_y'],axis=1,inplace=True)\n",
    "nps_with_followers.rename(columns={'Handle_x':'Handle'},inplace=True)\n",
    "nps_with_followers['Handle'].fillna('No Handle',inplace=True)"
   ]
  },
  {
   "cell_type": "code",
   "execution_count": null,
   "metadata": {
    "collapsed": true
   },
   "outputs": [],
   "source": [
    "#output file with followers\n",
    "os.chdir(output_folder)\n",
    "nps_with_followers.to_csv('NPS_with_followers.csv')"
   ]
  }
 ],
 "metadata": {
  "kernelspec": {
   "display_name": "Python [Root]",
   "language": "python",
   "name": "Python [Root]"
  },
  "language_info": {
   "codemirror_mode": {
    "name": "ipython",
    "version": 3
   },
   "file_extension": ".py",
   "mimetype": "text/x-python",
   "name": "python",
   "nbconvert_exporter": "python",
   "pygments_lexer": "ipython3",
   "version": "3.5.2"
  }
 },
 "nbformat": 4,
 "nbformat_minor": 0
}
