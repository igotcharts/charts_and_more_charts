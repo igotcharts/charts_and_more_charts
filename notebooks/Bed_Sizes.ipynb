{
 "cells": [
  {
   "cell_type": "code",
   "execution_count": 6,
   "metadata": {
    "collapsed": true
   },
   "outputs": [],
   "source": [
    "bed = np.array(['Crib',\n",
    "'Small Single/Cot',\n",
    "'Twin',\n",
    "'Twin-XL',\n",
    "'Three Quarter',\n",
    "'Full',\n",
    "'Full XL',\n",
    "'Queen',\n",
    "'Super Queen',\n",
    "'King',\n",
    "'Cal King',\n",
    "'Texas King'])\n",
    "\n",
    "width = np.array([28,\n",
    "30,\n",
    "39,\n",
    "39,\n",
    "48,\n",
    "54,\n",
    "54,\n",
    "60,\n",
    "66,\n",
    "76,\n",
    "72,\n",
    "80])\n",
    "\n",
    "length = np.array([52,\n",
    "75,\n",
    "75,\n",
    "80,\n",
    "75,\n",
    "75,\n",
    "80,\n",
    "80,\n",
    "80,\n",
    "80,\n",
    "84,\n",
    "98])\n",
    "\n",
    "colors = ['#a6cee3','#1f78b4','#b2df8a','#33a02c','#fb9a99','#e31a1c',\n",
    "         '#fdbf6f','#ff7f00','#cab2d6','#6a3d9a','#ffff99','#b15928']\n",
    "\n",
    "beds = pd.DataFrame({'Bed':bed,'width':width,'length':length,'color':colors})"
   ]
  },
  {
   "cell_type": "code",
   "execution_count": 17,
   "metadata": {
    "collapsed": false
   },
   "outputs": [
    {
     "data": {
      "text/plain": [
       "Bed       object\n",
       "length     int32\n",
       "width      int32\n",
       "dtype: object"
      ]
     },
     "execution_count": 17,
     "metadata": {},
     "output_type": "execute_result"
    }
   ],
   "source": [
    "fig = figure(figsize=(8,8))\n",
    "ax = fig.add_subplot(111,aspect='equal')\n",
    "#ax.add_patch(patches.Rectangle((0,0),transform=ax.transAxes,width=30,height=20))\n",
    "for item in range(len(length)):\n",
    "    ax.add_patch(patches.Rectangle((0,0),\n",
    "               width=beds['width'][item],edgecolor='black',\n",
    "               height=beds['length'][item],alpha=.3,facecolor=beds['color'][item],zorder=beds.index[item]))\n",
    "ax.set_xlim(0,beds['width'].max()+1)\n",
    "ax.set_ylim(0,beds['length'].max()+1)\n",
    "ax.xaxis.set_major_locator(mpl.ticker.MultipleLocator(10))\n",
    "ax.yaxis.set_major_locator(mpl.ticker.MultipleLocator(10))"
   ]
  }
 ],
 "metadata": {
  "kernelspec": {
   "display_name": "Python 3",
   "language": "python",
   "name": "python3"
  },
  "language_info": {
   "codemirror_mode": {
    "name": "ipython",
    "version": 3
   },
   "file_extension": ".py",
   "mimetype": "text/x-python",
   "name": "python",
   "nbconvert_exporter": "python",
   "pygments_lexer": "ipython3",
   "version": "3.6.0"
  }
 },
 "nbformat": 4,
 "nbformat_minor": 2
}
