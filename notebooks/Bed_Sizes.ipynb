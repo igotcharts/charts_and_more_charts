{
 "cells": [
  {
   "cell_type": "code",
   "execution_count": 1,
   "metadata": {
    "collapsed": true
   },
   "outputs": [],
   "source": [
    "bed = np.array(['Crib',\n",
    "'Small Single/Cot',\n",
    "'Twin',\n",
    "'Twin-XL',\n",
    "'Three Quarter',\n",
    "'Full',\n",
    "'Full XL',\n",
    "'Queen',\n",
    "'Super Queen',\n",
    "'King',\n",
    "'Cal King',\n",
    "'Texas King'])\n",
    "\n",
    "width = np.array([28,\n",
    "30,\n",
    "39,\n",
    "39,\n",
    "48,\n",
    "54,\n",
    "54,\n",
    "60,\n",
    "66,\n",
    "76,\n",
    "72,\n",
    "80])\n",
    "\n",
    "length = np.array([52,\n",
    "75,\n",
    "75,\n",
    "80,\n",
    "75,\n",
    "75,\n",
    "80,\n",
    "80,\n",
    "80,\n",
    "80,\n",
    "84,\n",
    "98])\n",
    "\n",
    "colors = ['#a6cee3','#1f78b4','#b2df8a','#33a02c','#fb9a99','#e31a1c',\n",
    "         '#fdbf6f','#ff7f00','#cab2d6','#6a3d9a','#ffff99','#b15928']\n",
    "\n",
    "beds = pd.DataFrame({'Bed':bed,'width':width,'length':length,'color':colors})"
   ]
  },
  {
   "cell_type": "code",
   "execution_count": 3,
   "metadata": {
    "collapsed": false
   },
   "outputs": [],
   "source": [
    "import function_list\n",
    "import os\n",
    "base_path,data_path,output = function_list.folder_setup()"
   ]
  },
  {
   "cell_type": "code",
   "execution_count": 11,
   "metadata": {
    "collapsed": false
   },
   "outputs": [],
   "source": [
    "os.chdir(data_path)\n",
    "beds = pd.read_csv('bed_size.csv')\n",
    "os.chdir(output)"
   ]
  },
  {
   "cell_type": "code",
   "execution_count": 16,
   "metadata": {
    "collapsed": false
   },
   "outputs": [],
   "source": [
    "#sort descending by Area\n",
    "beds.sort_values(by='Area',ascending=False,inplace=True)"
   ]
  },
  {
   "cell_type": "code",
   "execution_count": 23,
   "metadata": {
    "collapsed": false
   },
   "outputs": [
    {
     "data": {
      "image/png": "[encoded data removed]",
      "text/plain": [
       "<matplotlib.figure.Figure at 0x11a6ba4a8>"
      ]
     },
     "metadata": {},
     "output_type": "display_data"
    }
   ],
   "source": [
    "#Create chart\n",
    "\n",
    "fig = figure(figsize=(8,8))\n",
    "\n",
    "fig.suptitle('A Collection of US Bed Sizes',fontsize=20)\n",
    "\n",
    "ax = fig.add_subplot(111,aspect='equal')\n",
    "\n",
    "plt.subplots_adjust(top=.95)\n",
    "\n",
    "for item in range(len(length)):\n",
    "    ax.add_patch(patches.Rectangle((0,0),\n",
    "               width=beds['Width'][item],edgecolor='black',\n",
    "               height=beds['Length'][item],alpha=.6,facecolor=beds['Color'][item],zorder=beds.index[item]))\n",
    "    \n",
    "ax.set_xlim(0,beds['Width'].max()+1)\n",
    "ax.set_ylim(0,beds['Length'].max()+1)\n",
    "ax.xaxis.set_major_locator(mpl.ticker.MultipleLocator(10))\n",
    "ax.yaxis.set_major_locator(mpl.ticker.MultipleLocator(10))\n",
    "ax.set_xlabel('Width in Inches',fontsize=16)\n",
    "ax.set_ylabel('Height in Inches',fontsize=16)\n",
    "ax.grid(False)"
   ]
  }
 ],
 "metadata": {
  "kernelspec": {
   "display_name": "Python [Root]",
   "language": "python",
   "name": "Python [Root]"
  },
  "language_info": {
   "codemirror_mode": {
    "name": "ipython",
    "version": 3
   },
   "file_extension": ".py",
   "mimetype": "text/x-python",
   "name": "python",
   "nbconvert_exporter": "python",
   "pygments_lexer": "ipython3",
   "version": "3.5.2"
  }
 },
 "nbformat": 4,
 "nbformat_minor": 2
}
