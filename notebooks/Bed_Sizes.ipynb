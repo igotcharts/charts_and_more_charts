{
 "cells": [
  {
   "cell_type": "code",
   "execution_count": 3,
   "metadata": {
    "collapsed": false
   },
   "outputs": [],
   "source": [
    "import function_list\n",
    "import os\n",
    "base_path,data_path,output = function_list.folder_setup()"
   ]
  },
  {
   "cell_type": "code",
   "execution_count": null,
   "metadata": {
    "collapsed": true
   },
   "outputs": [],
   "source": []
  },
  {
   "cell_type": "code",
   "execution_count": 11,
   "metadata": {
    "collapsed": false
   },
   "outputs": [],
   "source": [
    "os.chdir(data_path)\n",
    "beds = pd.read_csv('bed_size.csv')\n",
    "os.chdir(output)"
   ]
  },
  {
   "cell_type": "code",
   "execution_count": 16,
   "metadata": {
    "collapsed": false
   },
   "outputs": [],
   "source": [
    "#sort descending by Area\n",
    "beds.sort_values(by='Area',ascending=False,inplace=True)"
   ]
  },
  {
   "cell_type": "markdown",
   "metadata": {},
   "source": [
    "## To-Do\n",
    "* Add annotations\n",
    "* Consider alt colors\n",
    "* Add source info"
   ]
  },
  {
   "cell_type": "code",
   "execution_count": 40,
   "metadata": {
    "collapsed": false
   },
   "outputs": [
    {
     "data": {
      "image/png": "[encoded data removed]",
      "text/plain": [
       "<matplotlib.figure.Figure at 0x11b25fa58>"
      ]
     },
     "metadata": {},
     "output_type": "display_data"
    }
   ],
   "source": [
    "#Create chart\n",
    "\n",
    "fig = figure(figsize=(8,8))\n",
    "\n",
    "fig.suptitle('A Collection of US Bed Sizes',fontsize=20)\n",
    "\n",
    "ax = fig.add_subplot(111,aspect='equal')\n",
    "\n",
    "plt.subplots_adjust(top=.8)\n",
    "\n",
    "for item in range(len(beds)):\n",
    "    ax.add_patch(patches.Rectangle((0,0),\n",
    "               width=beds['Width'][item],edgecolor='black',\n",
    "               height=beds['Length'][item],alpha=.6,facecolor=beds['Color'][item],zorder=beds.index[item]))\n",
    "    \n",
    "    ax.annotate(beds['Bed'][item],xy=(beds['Width'][item],beds['Length'][item]),\n",
    "                xytext=(beds['Width'][item],100),ha='left',va='bottom',rotation=90)\n",
    "    \n",
    "ax.set_xlim(0,beds['Width'].max()+1)\n",
    "ax.set_ylim(0,beds['Length'].max()+1)\n",
    "ax.xaxis.set_major_locator(mpl.ticker.MultipleLocator(10))\n",
    "ax.yaxis.set_major_locator(mpl.ticker.MultipleLocator(10))\n",
    "ax.set_xlabel('Width in Inches',fontsize=16)\n",
    "ax.set_ylabel('Length in Inches',fontsize=16)\n",
    "\n",
    "ax.grid(False)"
   ]
  },
  {
   "cell_type": "code",
   "execution_count": 29,
   "metadata": {
    "collapsed": false
   },
   "outputs": [
    {
     "data": {
      "text/plain": [
       "array(['Bed', 'Width', 'Length', 'Area', 'Color', 'Alt_Color',\n",
       "       'Standard Size',\n",
       "       'http://www.sizechart.com/home/bed-size/us/index.html'], dtype=object)"
      ]
     },
     "execution_count": 29,
     "metadata": {},
     "output_type": "execute_result"
    }
   ],
   "source": [
    "beds.columns.values"
   ]
  },
  {
   "cell_type": "code",
   "execution_count": null,
   "metadata": {
    "collapsed": true
   },
   "outputs": [],
   "source": []
  }
 ],
 "metadata": {
  "kernelspec": {
   "display_name": "Python [Root]",
   "language": "python",
   "name": "Python [Root]"
  },
  "language_info": {
   "codemirror_mode": {
    "name": "ipython",
    "version": 3
   },
   "file_extension": ".py",
   "mimetype": "text/x-python",
   "name": "python",
   "nbconvert_exporter": "python",
   "pygments_lexer": "ipython3",
   "version": "3.5.2"
  }
 },
 "nbformat": 4,
 "nbformat_minor": 2
}
