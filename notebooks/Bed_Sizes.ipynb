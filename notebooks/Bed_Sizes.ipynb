{
 "cells": [
  {
   "cell_type": "code",
   "execution_count": 3,
   "metadata": {
    "collapsed": false
   },
   "outputs": [],
   "source": [
    "import function_list\n",
    "import os\n",
    "base_path,data_path,output = function_list.folder_setup()"
   ]
  },
  {
   "cell_type": "code",
   "execution_count": null,
   "metadata": {
    "collapsed": true
   },
   "outputs": [],
   "source": []
  },
  {
   "cell_type": "code",
   "execution_count": 50,
   "metadata": {
    "collapsed": false
   },
   "outputs": [],
   "source": [
    "os.chdir(data_path)\n",
    "beds = pd.read_csv('bed_size.csv')\n",
    "os.chdir(output)"
   ]
  },
  {
   "cell_type": "code",
   "execution_count": 52,
   "metadata": {
    "collapsed": false
   },
   "outputs": [],
   "source": [
    "#sort descending by Area\n",
    "beds = beds.sort_values(by='Area',ascending=False).reset_index(drop=True)"
   ]
  },
  {
   "cell_type": "code",
   "execution_count": 54,
   "metadata": {
    "collapsed": false
   },
   "outputs": [],
   "source": [
    "bed_1 = [0,1,2,3,4,5,7,8,10,11]\n",
    "bed_2 = [6,9]\n"
   ]
  },
  {
   "cell_type": "code",
   "execution_count": 57,
   "metadata": {
    "collapsed": false
   },
   "outputs": [
    {
     "data": {
      "text/html": [
       "<div>\n",
       "<table border=\"1\" class=\"dataframe\">\n",
       "  <thead>\n",
       "    <tr style=\"text-align: right;\">\n",
       "      <th></th>\n",
       "      <th>Bed</th>\n",
       "      <th>Width</th>\n",
       "      <th>Length</th>\n",
       "      <th>Area</th>\n",
       "      <th>Color</th>\n",
       "      <th>Alt_Color</th>\n",
       "      <th>Standard Size</th>\n",
       "      <th>http://www.sizechart.com/home/bed-size/us/index.html</th>\n",
       "    </tr>\n",
       "  </thead>\n",
       "  <tbody>\n",
       "    <tr>\n",
       "      <th>0</th>\n",
       "      <td>Texas King</td>\n",
       "      <td>80</td>\n",
       "      <td>98</td>\n",
       "      <td>7840</td>\n",
       "      <td>#b15928</td>\n",
       "      <td>#b15928</td>\n",
       "      <td>No</td>\n",
       "      <td>NaN</td>\n",
       "    </tr>\n",
       "    <tr>\n",
       "      <th>1</th>\n",
       "      <td>King</td>\n",
       "      <td>76</td>\n",
       "      <td>80</td>\n",
       "      <td>6080</td>\n",
       "      <td>#6a3d9a</td>\n",
       "      <td>#969696</td>\n",
       "      <td>Yes</td>\n",
       "      <td>NaN</td>\n",
       "    </tr>\n",
       "    <tr>\n",
       "      <th>2</th>\n",
       "      <td>Cal King</td>\n",
       "      <td>72</td>\n",
       "      <td>84</td>\n",
       "      <td>6048</td>\n",
       "      <td>#ffff99</td>\n",
       "      <td>#969696</td>\n",
       "      <td>Yes</td>\n",
       "      <td>NaN</td>\n",
       "    </tr>\n",
       "    <tr>\n",
       "      <th>3</th>\n",
       "      <td>Super Queen</td>\n",
       "      <td>66</td>\n",
       "      <td>80</td>\n",
       "      <td>5280</td>\n",
       "      <td>#cab2d6</td>\n",
       "      <td>#cab2d6</td>\n",
       "      <td>No</td>\n",
       "      <td>NaN</td>\n",
       "    </tr>\n",
       "    <tr>\n",
       "      <th>4</th>\n",
       "      <td>Queen</td>\n",
       "      <td>60</td>\n",
       "      <td>80</td>\n",
       "      <td>4800</td>\n",
       "      <td>#ff7f00</td>\n",
       "      <td>#969696</td>\n",
       "      <td>Yes</td>\n",
       "      <td>NaN</td>\n",
       "    </tr>\n",
       "    <tr>\n",
       "      <th>5</th>\n",
       "      <td>Full XL</td>\n",
       "      <td>54</td>\n",
       "      <td>80</td>\n",
       "      <td>4320</td>\n",
       "      <td>#fdbf6f</td>\n",
       "      <td>#fdbf6f</td>\n",
       "      <td>No</td>\n",
       "      <td>NaN</td>\n",
       "    </tr>\n",
       "    <tr>\n",
       "      <th>6</th>\n",
       "      <td>Full</td>\n",
       "      <td>54</td>\n",
       "      <td>75</td>\n",
       "      <td>4050</td>\n",
       "      <td>#e31a1c</td>\n",
       "      <td>#969696</td>\n",
       "      <td>Yes</td>\n",
       "      <td>NaN</td>\n",
       "    </tr>\n",
       "    <tr>\n",
       "      <th>7</th>\n",
       "      <td>Three Quarter</td>\n",
       "      <td>48</td>\n",
       "      <td>75</td>\n",
       "      <td>3600</td>\n",
       "      <td>#fb9a99</td>\n",
       "      <td>#969696</td>\n",
       "      <td>Yes</td>\n",
       "      <td>NaN</td>\n",
       "    </tr>\n",
       "    <tr>\n",
       "      <th>8</th>\n",
       "      <td>Twin-XL</td>\n",
       "      <td>39</td>\n",
       "      <td>80</td>\n",
       "      <td>3120</td>\n",
       "      <td>#33a02c</td>\n",
       "      <td>#33a02c</td>\n",
       "      <td>No</td>\n",
       "      <td>NaN</td>\n",
       "    </tr>\n",
       "    <tr>\n",
       "      <th>9</th>\n",
       "      <td>Twin</td>\n",
       "      <td>39</td>\n",
       "      <td>75</td>\n",
       "      <td>2925</td>\n",
       "      <td>#b2df8a</td>\n",
       "      <td>#969696</td>\n",
       "      <td>Yes</td>\n",
       "      <td>NaN</td>\n",
       "    </tr>\n",
       "    <tr>\n",
       "      <th>10</th>\n",
       "      <td>Small Single/Cot</td>\n",
       "      <td>30</td>\n",
       "      <td>75</td>\n",
       "      <td>2250</td>\n",
       "      <td>#1f78b4</td>\n",
       "      <td>#1f78b4</td>\n",
       "      <td>No</td>\n",
       "      <td>NaN</td>\n",
       "    </tr>\n",
       "    <tr>\n",
       "      <th>11</th>\n",
       "      <td>Crib</td>\n",
       "      <td>28</td>\n",
       "      <td>52</td>\n",
       "      <td>1456</td>\n",
       "      <td>#a6cee3</td>\n",
       "      <td>#969696</td>\n",
       "      <td>Yes</td>\n",
       "      <td>NaN</td>\n",
       "    </tr>\n",
       "  </tbody>\n",
       "</table>\n",
       "</div>"
      ],
      "text/plain": [
       "                 Bed  Width  Length  Area    Color Alt_Color Standard Size  \\\n",
       "0         Texas King     80      98  7840  #b15928   #b15928            No   \n",
       "1               King     76      80  6080  #6a3d9a   #969696           Yes   \n",
       "2           Cal King     72      84  6048  #ffff99   #969696           Yes   \n",
       "3        Super Queen     66      80  5280  #cab2d6   #cab2d6            No   \n",
       "4              Queen     60      80  4800  #ff7f00   #969696           Yes   \n",
       "5            Full XL     54      80  4320  #fdbf6f   #fdbf6f            No   \n",
       "6               Full     54      75  4050  #e31a1c   #969696           Yes   \n",
       "7      Three Quarter     48      75  3600  #fb9a99   #969696           Yes   \n",
       "8            Twin-XL     39      80  3120  #33a02c   #33a02c            No   \n",
       "9               Twin     39      75  2925  #b2df8a   #969696           Yes   \n",
       "10  Small Single/Cot     30      75  2250  #1f78b4   #1f78b4            No   \n",
       "11              Crib     28      52  1456  #a6cee3   #969696           Yes   \n",
       "\n",
       "    http://www.sizechart.com/home/bed-size/us/index.html  \n",
       "0                                                 NaN     \n",
       "1                                                 NaN     \n",
       "2                                                 NaN     \n",
       "3                                                 NaN     \n",
       "4                                                 NaN     \n",
       "5                                                 NaN     \n",
       "6                                                 NaN     \n",
       "7                                                 NaN     \n",
       "8                                                 NaN     \n",
       "9                                                 NaN     \n",
       "10                                                NaN     \n",
       "11                                                NaN     "
      ]
     },
     "execution_count": 57,
     "metadata": {},
     "output_type": "execute_result"
    }
   ],
   "source": [
    "beds"
   ]
  },
  {
   "cell_type": "markdown",
   "metadata": {},
   "source": [
    "## To-Do\n",
    "* Add annotations\n",
    "* Consider alt colors\n",
    "* Add source info"
   ]
  },
  {
   "cell_type": "code",
   "execution_count": 123,
   "metadata": {
    "collapsed": false
   },
   "outputs": [
    {
     "data": {
      "image/png": "[encoded data removed]",
      "text/plain": [
       "<matplotlib.figure.Figure at 0x11af7cf60>"
      ]
     },
     "metadata": {},
     "output_type": "display_data"
    }
   ],
   "source": [
    "#Create chart\n",
    "\n",
    "fig = figure(figsize=(16,16))\n",
    "\n",
    "fig.suptitle('A Collection of US Bed Sizes',fontsize=36)\n",
    "\n",
    "ax = fig.add_subplot(111,aspect='equal')\n",
    "\n",
    "plt.subplots_adjust(top=.8)\n",
    "\n",
    "for item in range(len(beds)):\n",
    "    ax.add_patch(patches.Rectangle((0,0),\n",
    "               width=beds['Width'][item],edgecolor='black',\n",
    "               height=beds['Length'][item],alpha=.6,facecolor=beds['Color'][item],zorder=beds.index[item]))\n",
    "    \n",
    "for item in bed_1:\n",
    "    ax.annotate(beds['Bed'][item],xy=(beds['Width'][item],beds['Length'][item]),\n",
    "            xytext=(beds['Width'][item],100),arrowprops=dict(arrowstyle=\"-\",\n",
    "                            connectionstyle=\"arc3\",alpha=.4,linewidth=.5),\n",
    "                ha='left',va='bottom',rotation=90,style='italic',zorder=10,fontsize=16)\n",
    "    \n",
    "for item in (6,9):    \n",
    "    ax.annotate(beds['Bed'][item],xy=(beds['Width'][item],beds['Length'][item]),fontsize=16,\n",
    "                arrowprops=dict(arrowstyle=\"-\",connectionstyle=\"arc3\",alpha=.4,linewidth=.5),\n",
    "    xytext=(beds['Width'][item]-5,68),\n",
    "                ha='left',va='bottom',rotation=0,style='italic',color='White',zorder=14)\n",
    "    \n",
    "\n",
    "    \n",
    "ax.set_xlim(0,beds['Width'].max()+1)\n",
    "ax.set_ylim(0,beds['Length'].max()+1)\n",
    "ax.xaxis.set_major_locator(mpl.ticker.MultipleLocator(10))\n",
    "ax.yaxis.set_major_locator(mpl.ticker.MultipleLocator(10))\n",
    "ax.set_xlabel('Width in Inches',fontsize=16)\n",
    "ax.set_ylabel('Length in Inches',fontsize=16)\n",
    "\n",
    "ax.grid(False)"
   ]
  },
  {
   "cell_type": "code",
   "execution_count": 29,
   "metadata": {
    "collapsed": false
   },
   "outputs": [
    {
     "data": {
      "text/plain": [
       "array(['Bed', 'Width', 'Length', 'Area', 'Color', 'Alt_Color',\n",
       "       'Standard Size',\n",
       "       'http://www.sizechart.com/home/bed-size/us/index.html'], dtype=object)"
      ]
     },
     "execution_count": 29,
     "metadata": {},
     "output_type": "execute_result"
    }
   ],
   "source": [
    "beds.columns.values"
   ]
  },
  {
   "cell_type": "code",
   "execution_count": null,
   "metadata": {
    "collapsed": true
   },
   "outputs": [],
   "source": []
  }
 ],
 "metadata": {
  "kernelspec": {
   "display_name": "Python [Root]",
   "language": "python",
   "name": "Python [Root]"
  },
  "language_info": {
   "codemirror_mode": {
    "name": "ipython",
    "version": 3
   },
   "file_extension": ".py",
   "mimetype": "text/x-python",
   "name": "python",
   "nbconvert_exporter": "python",
   "pygments_lexer": "ipython3",
   "version": "3.5.2"
  }
 },
 "nbformat": 4,
 "nbformat_minor": 2
}
