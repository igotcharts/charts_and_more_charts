{
 "cells": [
  {
   "cell_type": "code",
   "execution_count": 1,
   "metadata": {
    "collapsed": false
   },
   "outputs": [],
   "source": [
    "import os\n",
    "import charts_function_list, date_functions"
   ]
  },
  {
   "cell_type": "code",
   "execution_count": 2,
   "metadata": {
    "collapsed": false
   },
   "outputs": [],
   "source": [
    "base_path, data_folder, outputs = charts_function_list.folder_setup()\n",
    "os.chdir(data_folder)\n",
    "poke = pd.read_csv('poke.csv')\n",
    "date_functions.convert_datetime(poke)"
   ]
  },
  {
   "cell_type": "code",
   "execution_count": 3,
   "metadata": {
    "collapsed": false
   },
   "outputs": [],
   "source": [
    "year_count = poke.pivot_table('BUSINESS NAME',index='LOCATION START DATE',aggfunc='count').resample('AS').sum()\n",
    "year_count.fillna(0,inplace=True)\n",
    "year_count = year_count[0:-1] #remove 2017"
   ]
  },
  {
   "cell_type": "code",
   "execution_count": 4,
   "metadata": {
    "collapsed": false
   },
   "outputs": [],
   "source": [
    "charts_function_list.line_chart(x=year_count.index.year,y=year_count.values,xlabel = 'Year of Opening', ylabel = 'Count of Restaurant Openings',\n",
    "           title='The Great Los Angeles Poke Boom of 2016',source_y=-.2,linecolor='#fbb4b9',\n",
    "                                chart_tag_y=-.23,source='Los Angeles Open Data Portal - Listing of Active Businesses - April 2017',linewidth=3,marker='o')\n",
    "ax = plt.gca()\n",
    "ax.set_ylim(-.1,35)\n",
    "\n",
    "ax.text(1,-.3,'Poke is a delicious Hawaiian salad, usually made with raw fish and other morsels',\n",
    "        transform=ax.transAxes,ha='right',style='italic',color='#ae017e')\n",
    "os.chdir(outputs)\n",
    "plt.savefig('Poke Count',bbox_inches = 'tight', dpi = 100, pad_inches = .25,transparent=False)"
   ]
  },
  {
   "cell_type": "code",
   "execution_count": null,
   "metadata": {
    "collapsed": true
   },
   "outputs": [],
   "source": []
  }
 ],
 "metadata": {
  "kernelspec": {
   "display_name": "Python 3",
   "language": "python",
   "name": "python3"
  },
  "language_info": {
   "codemirror_mode": {
    "name": "ipython",
    "version": 3
   },
   "file_extension": ".py",
   "mimetype": "text/x-python",
   "name": "python",
   "nbconvert_exporter": "python",
   "pygments_lexer": "ipython3",
   "version": "3.6.0"
  }
 },
 "nbformat": 4,
 "nbformat_minor": 2
}
