{
 "cells": [
  {
   "cell_type": "code",
   "execution_count": 104,
   "metadata": {
    "collapsed": true
   },
   "outputs": [],
   "source": [
    "import viz_functions\n",
    "import function_list\n",
    "import os\n",
    "%matplotlib inline\n",
    "base,data,outputs = function_list.folder_setup()\n",
    "os.chdir(outputs)\n",
    "\n",
    "moon = viz_functions.chart_maker('The Homogeneity of the Moon Walkers',title_size=24)\n",
    "fig = moon.initial_fig_axis(figsize=(8,8))\n",
    "fig.subplots_adjust(hspace=.2,wspace=.1)\n",
    "\n",
    "\n",
    "for i,v in enumerate(['White','Male','Christian','Straight']):\n",
    "    ax = fig.add_subplot(2,2,i+1)\n",
    "    ax.set_title(v,fontsize=20)\n",
    "    plt.scatter(0,0,s=20000,facecolor='white',zorder=2,label=v)\n",
    "    ax.axis('off')\n",
    "    moon.patch_adder(ax=ax,facecolor='black')\n",
    "    ax.annotate(s='100%',xy=(.2,.22),xytext=(.2,.3),color='white',arrowprops={'arrowstyle':'-','color':'white',\n",
    "                                                                            \n",
    "                                                                             'connectionstyle':\"arc3,rad=0.1\"})\n",
    "    \n",
    "    if i == 2:\n",
    "        moon.citations(ax=ax,source='Source: space.com',chart_tag='igotcharts, 2018',source_y=-0.2, chart_tag_y=-0.3) \n",
    " \n",
    "\n",
    "viz_functions.chart_save('moon')"
   ]
  }
 ],
 "metadata": {
  "kernelspec": {
   "display_name": "Python 3",
   "language": "python",
   "name": "python3"
  },
  "language_info": {
   "codemirror_mode": {
    "name": "ipython",
    "version": 3
   },
   "file_extension": ".py",
   "mimetype": "text/x-python",
   "name": "python",
   "nbconvert_exporter": "python",
   "pygments_lexer": "ipython3",
   "version": "3.6.2"
  }
 },
 "nbformat": 4,
 "nbformat_minor": 2
}
