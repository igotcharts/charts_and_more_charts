{
 "cells": [
  {
   "cell_type": "code",
   "execution_count": 2,
   "metadata": {
    "collapsed": false
   },
   "outputs": [],
   "source": [
    "import os\n",
    "import charts_function_list"
   ]
  },
  {
   "cell_type": "code",
   "execution_count": 3,
   "metadata": {
    "collapsed": true
   },
   "outputs": [],
   "source": [
    "_,datafolder,outputs=charts_function_list.folder_setup()"
   ]
  },
  {
   "cell_type": "code",
   "execution_count": 81,
   "metadata": {
    "collapsed": false
   },
   "outputs": [],
   "source": [
    "#Since the get_title_by_id function takes a while to complete, save as a new .csv for faster access later\n",
    "os.chdir(datafolder)\n",
    "sequels_with_ratings = pd.read_csv('sequels_with_rating.csv',index_col=[0,1])\n",
    "sequels_with_ratings.dropna(inplace=True)"
   ]
  },
  {
   "cell_type": "code",
   "execution_count": 82,
   "metadata": {
    "collapsed": false
   },
   "outputs": [],
   "source": [
    "sequels_with_ratings = sequels_with_ratings[sequels_with_ratings.index.get_level_values(0)!='Star Trek']"
   ]
  },
  {
   "cell_type": "code",
   "execution_count": 121,
   "metadata": {
    "collapsed": false
   },
   "outputs": [
    {
     "data": {
      "text/plain": [
       "array([ 5.51666667])"
      ]
     },
     "execution_count": 121,
     "metadata": {},
     "output_type": "execute_result"
    }
   ],
   "source": [
    "pd.DataFrame(sequels_with_ratings['rating'].mean(level=0)).loc[sequel_titles[0]].values"
   ]
  },
  {
   "cell_type": "code",
   "execution_count": null,
   "metadata": {
    "collapsed": false
   },
   "outputs": [],
   "source": [
    "sequel_titles = np.array(sequels_with_ratings.index.get_level_values(0).unique())\n",
    "my_new_chart = chart_maker(title='Swaths of Sequels:\\nTracking Some Multi-Film Franchises by IMDb Scores',title_size=30,alpha=.8)\n",
    "fig = my_new_chart.initial_fig_axis(figsize=(17,14))\n",
    "\n",
    "for item in range(len(sequel_titles)):\n",
    "    ax = my_new_chart.axes_set_up(rows=4,columns=4,plot_num=item+1)\n",
    "    plt.title(sequel_titles[item],fontsize=20,alpha=.7,style='italic')\n",
    "    \n",
    "    \n",
    "    plt.plot(sequels_with_ratings.loc[sequel_titles[item]].index.values+1,\n",
    "             sequels_with_ratings.loc[sequel_titles[item]]['rating'],clip_on=False,linewidth=3,color='#999999',zorder=2,label='IMDb Score')\n",
    "   \n",
    "    my_new_chart.y_axis_setup(min_=np.floor(sequels_with_ratings['rating'].min(level=0).min()),\n",
    "                              max_=np.ceil(sequels_with_ratings['rating'].max(level=0).max()),interval=2)\n",
    "    my_new_chart.x_axis_setup(min_=.5,max_=len(sequels_with_ratings.loc[sequel_titles[item]]),interval=1)\n",
    "    \n",
    "    \n",
    "    ax.plot([sequels_with_ratings.loc[sequel_titles[item]]['rating'].index.min()+1,\n",
    "             len(sequels_with_ratings.loc[sequel_titles[item]])],\n",
    "            [sequels_with_ratings.loc[sequel_titles[item]]['rating'].mean(),\n",
    "             sequels_with_ratings.loc[sequel_titles[item]]['rating'].mean()],\n",
    "            color='#fc8d59',zorder=1,label='Avg Score of Franchise'\n",
    "           )\n",
    "\n",
    "    \n",
    "    ax.tick_params(axis='both', which='major', labelsize=16,labelcolor='#969696')\n",
    "    ax.grid(alpha=.5)\n",
    "    \n",
    "    \n",
    "ax = plt.gca()\n",
    "ax.set_ylabel('IMDb Score',fontsize=16,alpha=.7,labelpad=1)\n",
    "ax.set_xlabel('Film in Sequence',fontsize=16,alpha=.7,labelpad=1)\n",
    "ax.legend(bbox_to_anchor=(-1,-.2 ),frameon=True,fontsize=16)\n",
    "my_new_chart.citations(x=-4.5,source_y=-.6,source='Source: IMDb.com',chart_tag_y=-.7,chart_tag='www.igotcharts.com')\n",
    "\n",
    "    \n",
    "os.chdir(outputs)\n",
    "plt.savefig('lots_of_sequels',bbox_inches = 'tight', dpi = 300, pad_inches = .25,transparent=False)\n",
    "plt.show()"
   ]
  },
  {
   "cell_type": "markdown",
   "metadata": {
    "collapsed": true
   },
   "source": [
    "### Pre-Work for Reference\n",
    "\n",
    "In order to obtain the titles, I used the IMDBpie title search function and converted to a DataFrame. This produces many false positives. Initially, the intent was to feed the entire list into a separate IMDBpie function that pulls ratings and votes, and then only include films that have more votes than a particular threshold. The intensity of this exercise was going to vary (e.g. quick and dirty trial and error vs. building a classifier). However, I never even made it that far! In practice, the pulling of ratings by ID# took quite a while for each ID, let alone hundreds. Thus, I instead manually selected the films I wanted and created a new dataset, which is the one featured in this code. \n",
    "\n",
    "Following this, I pulled ratings using the IMDBpie Get Title by ID function using the cleaned list.\n",
    "\n",
    "Also note, the original code did not pull particular titles, requiring some additional research on IMDb to fill in the gaps.\n",
    "\n",
    "The final chart does not use all the films in the initial list but have been left intact in case I end up filling in the additional numbers."
   ]
  },
  {
   "cell_type": "code",
   "execution_count": null,
   "metadata": {
    "collapsed": true
   },
   "outputs": [],
   "source": [
    "from imdbpie import Imdb\n",
    "\n",
    "imdb = Imdb()\n",
    "imdb = Imdb(anonymize=True)\n",
    "\n",
    "def title_search(title):\n",
    "    return pd.DataFrame(imdb.search_for_title(title),index=[x for x in range(len(pd.DataFrame(imdb.search_for_title(title))))])\n",
    "\n",
    "titles_to_search=['Fast and Furious','Police Academy',\n",
    "                  'Nightmare on Elm Street',\n",
    "                  'Saw',\n",
    "                  'Friday the 13th',\n",
    "                  'Star Trek','Final Destination',\n",
    "                  'Rocky','Step Up',\n",
    "                  'Mission Impossible','Die Hard','Resident Evil','Child\\'s Play','Halloween','Home Alone','House Party',\n",
    "                  'Paranormal Activity','Predator','Terminator','Pirates of the Caribbean','Underworld',\n",
    "                  'Death Wish','Godzilla','Scary Movie','Children of the Corn','Michael Myers','Zatoichi']\n",
    "combined_titles = pd.concat([title_search(title) for title in titles_to_search],keys=titles_to_search)\n",
    "\n",
    "#clean data\n",
    "combined_titles.dropna(subset=['year'],inplace=True)\n",
    "combined_titles['year']=combined_titles['year'].astype('int')\n",
    "combined_titles = combined_titles[(combined_titles['year']<=2017)&(combined_titles['year']>1960)]"
   ]
  },
  {
   "cell_type": "markdown",
   "metadata": {
    "collapsed": false
   },
   "source": [
    "### Pull ratings and votes using the imdb id"
   ]
  },
  {
   "cell_type": "code",
   "execution_count": null,
   "metadata": {
    "collapsed": true
   },
   "outputs": [],
   "source": [
    "os.chdir(datafolder)\n",
    "sequels = pd.read_csv('sequels_list_cleaned.csv')\n",
    "sequels = sequels.sort_values(['Category','year']).set_index('Category')\n",
    "sequels = charts_function_list.multi_numeric_index(sequels)\n",
    "imdb = Imdb()\n",
    "imdb = Imdb(anonymize=True)\n",
    "\n",
    "title_list = sequels['imdb_id'].values\n",
    "title_values = [imdb.get_title_by_id(title_) for title_ in range(len(title_list))]\n",
    "ratings_and_votes = pd.DataFrame({'rating':[title_values[item].rating for item in range(len(title_values))],\n",
    "                                  'votes':[title_values[item].votes for item in range(len(title_values))],\n",
    "                                  'imdb_id':sequels['imdb_id'].values})\n",
    "\n",
    "sequels = sequels.reset_index()\n",
    "sequels_with_ratings = pd.merge(sequels,ratings_and_votes,on='imdb_id',how='left')\n",
    "sequels_with_ratings= sequels_with_ratings.set_index(['Category','level_1'],drop=True)\n",
    "\n",
    "sequels_with_ratings.to_csv('sequels_with_rating.csv')"
   ]
  },
  {
   "cell_type": "code",
   "execution_count": null,
   "metadata": {
    "collapsed": true
   },
   "outputs": [],
   "source": []
  }
 ],
 "metadata": {
  "anaconda-cloud": {},
  "kernelspec": {
   "display_name": "Python 3",
   "language": "python",
   "name": "python3"
  },
  "language_info": {
   "codemirror_mode": {
    "name": "ipython",
    "version": 3
   },
   "file_extension": ".py",
   "mimetype": "text/x-python",
   "name": "python",
   "nbconvert_exporter": "python",
   "pygments_lexer": "ipython3",
   "version": "3.6.0"
  }
 },
 "nbformat": 4,
 "nbformat_minor": 2
}
