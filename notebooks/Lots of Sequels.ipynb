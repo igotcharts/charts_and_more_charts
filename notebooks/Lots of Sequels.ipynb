{
 "cells": [
  {
   "cell_type": "code",
   "execution_count": 1,
   "metadata": {
    "collapsed": false
   },
   "outputs": [],
   "source": [
    "from imdbpie import Imdb\n",
    "import os\n",
    "import charts_function_list"
   ]
  },
  {
   "cell_type": "code",
   "execution_count": 2,
   "metadata": {
    "collapsed": true
   },
   "outputs": [],
   "source": [
    "_,datafolder,outputs=charts_function_list.folder_setup()"
   ]
  },
  {
   "cell_type": "code",
   "execution_count": 3,
   "metadata": {
    "collapsed": true
   },
   "outputs": [],
   "source": [
    "imdb = Imdb()\n",
    "imdb = Imdb(anonymize=True)"
   ]
  },
  {
   "cell_type": "markdown",
   "metadata": {},
   "source": [
    "### Create function for dataframe based on title"
   ]
  },
  {
   "cell_type": "code",
   "execution_count": 4,
   "metadata": {
    "collapsed": false
   },
   "outputs": [],
   "source": [
    "def title_search(title):\n",
    "    return pd.DataFrame(imdb.search_for_title(title),index=[x for x in range(len(pd.DataFrame(imdb.search_for_title(title))))])"
   ]
  },
  {
   "cell_type": "markdown",
   "metadata": {},
   "source": [
    "### Create combined framed for titles we want to track"
   ]
  },
  {
   "cell_type": "code",
   "execution_count": 9,
   "metadata": {
    "collapsed": false
   },
   "outputs": [],
   "source": [
    "titles_to_search=['Fast and Furious','Police Academy',\n",
    "                  'Nightmare on Elm Street',\n",
    "                  'Saw',\n",
    "                  'Friday the 13th',\n",
    "                  'Star Trek','Final Destination',\n",
    "                  'Rocky','Step Up',\n",
    "                  'Mission Impossible','Riddick','Die Hard','Transformers','Resident Evil','Child\\'s Play']\n",
    "combined_titles = pd.concat([title_search(title) for title in titles_to_search],keys=titles_to_search)\n",
    "\n",
    "#clean data\n",
    "combined_titles.dropna(subset=['year'],inplace=True)\n",
    "combined_titles['year']=combined_titles['year'].astype('int')\n",
    "combined_titles = combined_titles[(combined_titles['year']<=2017)&(combined_titles['year']>1975)]\n",
    "\n"
   ]
  },
  {
   "cell_type": "markdown",
   "metadata": {},
   "source": [
    "The title search function produces many more titles than we want. The forthcoming function to retrieve ratings is very slow. Thus, we will export an interim .csv to manually scrub unwanted titles. Oh, if I could find a way to automate this.."
   ]
  },
  {
   "cell_type": "code",
   "execution_count": 14,
   "metadata": {
    "collapsed": false
   },
   "outputs": [],
   "source": [
    "os.chdir(outputs)\n",
    "combined_titles.to_csv('movie_list_interim.csv')"
   ]
  },
  {
   "cell_type": "code",
   "execution_count": null,
   "metadata": {
    "collapsed": false
   },
   "outputs": [],
   "source": [
    "ratings_and_votes = pd.DataFrame({'Rating':[imdb.get_title_by_id(title_).rating for title_ in combined_titles['imdb_id']],\n",
    "                        'Votes':[imdb.get_title_by_id(title_).votes for title_ in combined_titles['imdb_id']],\n",
    "                                 'Title':[title_ for title_ in combined_titles['imdb_id']]})"
   ]
  },
  {
   "cell_type": "code",
   "execution_count": 13,
   "metadata": {
    "collapsed": false
   },
   "outputs": [
    {
     "data": {
      "text/html": [
       "<div>\n",
       "<style>\n",
       "    .dataframe thead tr:only-child th {\n",
       "        text-align: right;\n",
       "    }\n",
       "\n",
       "    .dataframe thead th {\n",
       "        text-align: left;\n",
       "    }\n",
       "\n",
       "    .dataframe tbody tr th {\n",
       "        vertical-align: top;\n",
       "    }\n",
       "</style>\n",
       "<table border=\"1\" class=\"dataframe\">\n",
       "  <thead>\n",
       "    <tr style=\"text-align: right;\">\n",
       "      <th></th>\n",
       "      <th>imdb_id</th>\n",
       "      <th>title</th>\n",
       "      <th>year</th>\n",
       "    </tr>\n",
       "  </thead>\n",
       "  <tbody>\n",
       "    <tr>\n",
       "      <th>0</th>\n",
       "      <td>tt0087928</td>\n",
       "      <td>Police Academy</td>\n",
       "      <td>1984</td>\n",
       "    </tr>\n",
       "    <tr>\n",
       "      <th>1</th>\n",
       "      <td>tt0089822</td>\n",
       "      <td>Police Academy 2: Their First Assignment</td>\n",
       "      <td>1985</td>\n",
       "    </tr>\n",
       "    <tr>\n",
       "      <th>2</th>\n",
       "      <td>tt0091777</td>\n",
       "      <td>Police Academy 3: Back in Training</td>\n",
       "      <td>1986</td>\n",
       "    </tr>\n",
       "    <tr>\n",
       "      <th>4</th>\n",
       "      <td>tt0093756</td>\n",
       "      <td>Police Academy 4: Citizens on Patrol</td>\n",
       "      <td>1987</td>\n",
       "    </tr>\n",
       "    <tr>\n",
       "      <th>5</th>\n",
       "      <td>tt0095882</td>\n",
       "      <td>Police Academy 5: Assignment: Miami Beach</td>\n",
       "      <td>1988</td>\n",
       "    </tr>\n",
       "    <tr>\n",
       "      <th>6</th>\n",
       "      <td>tt0098105</td>\n",
       "      <td>Police Academy 6: City Under Siege</td>\n",
       "      <td>1989</td>\n",
       "    </tr>\n",
       "    <tr>\n",
       "      <th>7</th>\n",
       "      <td>tt0110857</td>\n",
       "      <td>Police Academy: Mission to Moscow</td>\n",
       "      <td>1994</td>\n",
       "    </tr>\n",
       "    <tr>\n",
       "      <th>8</th>\n",
       "      <td>tt0094526</td>\n",
       "      <td>Police Academy: The Series</td>\n",
       "      <td>1988</td>\n",
       "    </tr>\n",
       "    <tr>\n",
       "      <th>9</th>\n",
       "      <td>tt0126168</td>\n",
       "      <td>Police Academy: The Series</td>\n",
       "      <td>1997</td>\n",
       "    </tr>\n",
       "    <tr>\n",
       "      <th>10</th>\n",
       "      <td>tt4325152</td>\n",
       "      <td>Police Academy Alaturka</td>\n",
       "      <td>2015</td>\n",
       "    </tr>\n",
       "    <tr>\n",
       "      <th>11</th>\n",
       "      <td>tt0078100</td>\n",
       "      <td>Teen Lust</td>\n",
       "      <td>1978</td>\n",
       "    </tr>\n",
       "    <tr>\n",
       "      <th>12</th>\n",
       "      <td>tt3723892</td>\n",
       "      <td>Kuwait Police Academy 40</td>\n",
       "      <td>2014</td>\n",
       "    </tr>\n",
       "    <tr>\n",
       "      <th>13</th>\n",
       "      <td>tt0456108</td>\n",
       "      <td>Police Academy 2: Their First Assignment - Acc...</td>\n",
       "      <td>2004</td>\n",
       "    </tr>\n",
       "    <tr>\n",
       "      <th>14</th>\n",
       "      <td>tt1694092</td>\n",
       "      <td>Police Academy 3: Back in Training - All Washe...</td>\n",
       "      <td>2004</td>\n",
       "    </tr>\n",
       "    <tr>\n",
       "      <th>15</th>\n",
       "      <td>tt1690997</td>\n",
       "      <td>Police Academy 4: Citizens on Patrol - Remembe...</td>\n",
       "      <td>2004</td>\n",
       "    </tr>\n",
       "    <tr>\n",
       "      <th>16</th>\n",
       "      <td>tt3463240</td>\n",
       "      <td>Police Academy 5: Assignment: Miami Beach - Mi...</td>\n",
       "      <td>2004</td>\n",
       "    </tr>\n",
       "    <tr>\n",
       "      <th>17</th>\n",
       "      <td>tt1694093</td>\n",
       "      <td>Police Academy 6: City Under Siege - Unholy Al...</td>\n",
       "      <td>2004</td>\n",
       "    </tr>\n",
       "    <tr>\n",
       "      <th>18</th>\n",
       "      <td>tt1690998</td>\n",
       "      <td>Police Academy - Behind Academy Doors: Secret ...</td>\n",
       "      <td>2004</td>\n",
       "    </tr>\n",
       "    <tr>\n",
       "      <th>19</th>\n",
       "      <td>tt1699230</td>\n",
       "      <td>Police Academy: Mission to Moscow - Underneath...</td>\n",
       "      <td>2004</td>\n",
       "    </tr>\n",
       "    <tr>\n",
       "      <th>20</th>\n",
       "      <td>tt2442036</td>\n",
       "      <td>Police Academy UK</td>\n",
       "      <td>2011</td>\n",
       "    </tr>\n",
       "    <tr>\n",
       "      <th>21</th>\n",
       "      <td>tt0260646</td>\n",
       "      <td>Police Dog Academy</td>\n",
       "      <td>2000</td>\n",
       "    </tr>\n",
       "    <tr>\n",
       "      <th>23</th>\n",
       "      <td>tt1720196</td>\n",
       "      <td>Police Academy Gangbang</td>\n",
       "      <td>2010</td>\n",
       "    </tr>\n",
       "  </tbody>\n",
       "</table>\n",
       "</div>"
      ],
      "text/plain": [
       "      imdb_id                                              title  year\n",
       "0   tt0087928                                     Police Academy  1984\n",
       "1   tt0089822           Police Academy 2: Their First Assignment  1985\n",
       "2   tt0091777                 Police Academy 3: Back in Training  1986\n",
       "4   tt0093756               Police Academy 4: Citizens on Patrol  1987\n",
       "5   tt0095882          Police Academy 5: Assignment: Miami Beach  1988\n",
       "6   tt0098105                 Police Academy 6: City Under Siege  1989\n",
       "7   tt0110857                  Police Academy: Mission to Moscow  1994\n",
       "8   tt0094526                         Police Academy: The Series  1988\n",
       "9   tt0126168                         Police Academy: The Series  1997\n",
       "10  tt4325152                            Police Academy Alaturka  2015\n",
       "11  tt0078100                                          Teen Lust  1978\n",
       "12  tt3723892                           Kuwait Police Academy 40  2014\n",
       "13  tt0456108  Police Academy 2: Their First Assignment - Acc...  2004\n",
       "14  tt1694092  Police Academy 3: Back in Training - All Washe...  2004\n",
       "15  tt1690997  Police Academy 4: Citizens on Patrol - Remembe...  2004\n",
       "16  tt3463240  Police Academy 5: Assignment: Miami Beach - Mi...  2004\n",
       "17  tt1694093  Police Academy 6: City Under Siege - Unholy Al...  2004\n",
       "18  tt1690998  Police Academy - Behind Academy Doors: Secret ...  2004\n",
       "19  tt1699230  Police Academy: Mission to Moscow - Underneath...  2004\n",
       "20  tt2442036                                  Police Academy UK  2011\n",
       "21  tt0260646                                 Police Dog Academy  2000\n",
       "23  tt1720196                            Police Academy Gangbang  2010"
      ]
     },
     "execution_count": 13,
     "metadata": {},
     "output_type": "execute_result"
    }
   ],
   "source": [
    "combined_titles.loc['Police Academy']"
   ]
  },
  {
   "cell_type": "code",
   "execution_count": null,
   "metadata": {
    "collapsed": true
   },
   "outputs": [],
   "source": []
  }
 ],
 "metadata": {
  "kernelspec": {
   "display_name": "Python 3",
   "language": "python",
   "name": "python3"
  },
  "language_info": {
   "codemirror_mode": {
    "name": "ipython",
    "version": 3
   },
   "file_extension": ".py",
   "mimetype": "text/x-python",
   "name": "python",
   "nbconvert_exporter": "python",
   "pygments_lexer": "ipython3",
   "version": "3.6.0"
  }
 },
 "nbformat": 4,
 "nbformat_minor": 2
}
