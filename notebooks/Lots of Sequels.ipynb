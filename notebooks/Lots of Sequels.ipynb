{
 "cells": [
  {
   "cell_type": "code",
   "execution_count": 89,
   "metadata": {
    "collapsed": false
   },
   "outputs": [],
   "source": [
    "from imdbpie import Imdb\n",
    "import os\n",
    "import charts_function_list"
   ]
  },
  {
   "cell_type": "code",
   "execution_count": 90,
   "metadata": {
    "collapsed": true
   },
   "outputs": [],
   "source": [
    "_,datafolder,outputs=charts_function_list.folder_setup()"
   ]
  },
  {
   "cell_type": "code",
   "execution_count": 6,
   "metadata": {
    "collapsed": true
   },
   "outputs": [],
   "source": [
    "imdb = Imdb()\n",
    "imdb = Imdb(anonymize=True)"
   ]
  },
  {
   "cell_type": "code",
   "execution_count": 123,
   "metadata": {
    "collapsed": false
   },
   "outputs": [],
   "source": [
    "def title_search(title):\n",
    "    return pd.DataFrame(imdb.search_for_title(title),index=[1 for x in range(len(pd.DataFrame(imdb.search_for_title('Brooklyn'))))])"
   ]
  },
  {
   "cell_type": "code",
   "execution_count": 201,
   "metadata": {
    "collapsed": true
   },
   "outputs": [],
   "source": [
    "titles_to_search=['Fast and Furious',\n",
    "                  'Halloween',\n",
    "                  'Nightmare on Elm Street',\n",
    "                  'Saw',\n",
    "                  'Friday the 13th',\n",
    "                  'Star Trek','Final Destination',\n",
    "                  'Rocky','Step Up',\n",
    "                  'Mission Impossible','Riddick','Die Hard','Transformers','Resident Evil','Child\\'s Play']\n",
    "combined_titles = pd.concat([title_search(title) for title in titles_to_search],keys=titles_to_search)\n",
    "\n",
    "#clean data\n",
    "combined_titles.dropna(subset=['year'],inplace=True)\n",
    "combined_titles['year']=combined_titles['year'].astype('int')\n",
    "combined_titles = combined_titles[(combined_titles['year']<=2017)&(combined_titles['year']>1970)]\n",
    "\n"
   ]
  },
  {
   "cell_type": "code",
   "execution_count": 172,
   "metadata": {
    "collapsed": false
   },
   "outputs": [
    {
     "data": {
      "text/html": [
       "<div>\n",
       "<table border=\"1\" class=\"dataframe\">\n",
       "  <thead>\n",
       "    <tr style=\"text-align: right;\">\n",
       "      <th></th>\n",
       "      <th>A</th>\n",
       "      <th>B</th>\n",
       "    </tr>\n",
       "  </thead>\n",
       "  <tbody>\n",
       "    <tr>\n",
       "      <th>0</th>\n",
       "      <td>2</td>\n",
       "      <td>2</td>\n",
       "    </tr>\n",
       "    <tr>\n",
       "      <th>1</th>\n",
       "      <td>3</td>\n",
       "      <td>3</td>\n",
       "    </tr>\n",
       "    <tr>\n",
       "      <th>2</th>\n",
       "      <td>4</td>\n",
       "      <td>4</td>\n",
       "    </tr>\n",
       "  </tbody>\n",
       "</table>\n",
       "</div>"
      ],
      "text/plain": [
       "   A  B\n",
       "0  2  2\n",
       "1  3  3\n",
       "2  4  4"
      ]
     },
     "execution_count": 172,
     "metadata": {},
     "output_type": "execute_result"
    }
   ],
   "source": [
    "ratings_and_votes = pd.DataFrame({'Rating':[imdb.get_title_by_id(title_).rating for title_ in combined_titles['imdb_id'],\n",
    "                        'Votes':[imdb.get_title_by_id(title_).votes for title_ in combined_titles['imdb_id'],\n",
    "                                 'Title':[title_ for title_i ]"
   ]
  },
  {
   "cell_type": "code",
   "execution_count": 204,
   "metadata": {
    "collapsed": false
   },
   "outputs": [
    {
     "data": {
      "text/html": [
       "<div>\n",
       "<table border=\"1\" class=\"dataframe\">\n",
       "  <thead>\n",
       "    <tr style=\"text-align: right;\">\n",
       "      <th></th>\n",
       "      <th>imdb_id</th>\n",
       "      <th>title</th>\n",
       "      <th>year</th>\n",
       "    </tr>\n",
       "  </thead>\n",
       "  <tbody>\n",
       "    <tr>\n",
       "      <th>0</th>\n",
       "      <td>tt0077651</td>\n",
       "      <td>Halloween</td>\n",
       "      <td>1978</td>\n",
       "    </tr>\n",
       "    <tr>\n",
       "      <th>1</th>\n",
       "      <td>tt0373883</td>\n",
       "      <td>Halloween</td>\n",
       "      <td>2007</td>\n",
       "    </tr>\n",
       "    <tr>\n",
       "      <th>2</th>\n",
       "      <td>tt0084825</td>\n",
       "      <td>Trick or Treats</td>\n",
       "      <td>1982</td>\n",
       "    </tr>\n",
       "    <tr>\n",
       "      <th>4</th>\n",
       "      <td>tt0296665</td>\n",
       "      <td>Halloween</td>\n",
       "      <td>1983</td>\n",
       "    </tr>\n",
       "    <tr>\n",
       "      <th>5</th>\n",
       "      <td>tt4429528</td>\n",
       "      <td>Halloween</td>\n",
       "      <td>2014</td>\n",
       "    </tr>\n",
       "    <tr>\n",
       "      <th>8</th>\n",
       "      <td>tt4577976</td>\n",
       "      <td>Halloween</td>\n",
       "      <td>2011</td>\n",
       "    </tr>\n",
       "    <tr>\n",
       "      <th>9</th>\n",
       "      <td>tt6031162</td>\n",
       "      <td>Halloween!</td>\n",
       "      <td>1994</td>\n",
       "    </tr>\n",
       "    <tr>\n",
       "      <th>10</th>\n",
       "      <td>tt3674384</td>\n",
       "      <td>Halloween</td>\n",
       "      <td>2014</td>\n",
       "    </tr>\n",
       "    <tr>\n",
       "      <th>11</th>\n",
       "      <td>tt4586024</td>\n",
       "      <td>Halloween</td>\n",
       "      <td>2014</td>\n",
       "    </tr>\n",
       "    <tr>\n",
       "      <th>14</th>\n",
       "      <td>tt6318242</td>\n",
       "      <td>Halloween Haunts</td>\n",
       "      <td>2009</td>\n",
       "    </tr>\n",
       "    <tr>\n",
       "      <th>15</th>\n",
       "      <td>tt2430774</td>\n",
       "      <td>Halloween</td>\n",
       "      <td>2012</td>\n",
       "    </tr>\n",
       "  </tbody>\n",
       "</table>\n",
       "</div>"
      ],
      "text/plain": [
       "      imdb_id             title  year\n",
       "0   tt0077651         Halloween  1978\n",
       "1   tt0373883         Halloween  2007\n",
       "2   tt0084825   Trick or Treats  1982\n",
       "4   tt0296665         Halloween  1983\n",
       "5   tt4429528         Halloween  2014\n",
       "8   tt4577976         Halloween  2011\n",
       "9   tt6031162        Halloween!  1994\n",
       "10  tt3674384         Halloween  2014\n",
       "11  tt4586024         Halloween  2014\n",
       "14  tt6318242  Halloween Haunts  2009\n",
       "15  tt2430774         Halloween  2012"
      ]
     },
     "execution_count": 204,
     "metadata": {},
     "output_type": "execute_result"
    }
   ],
   "source": [
    "combined_titles.ix['Halloween']"
   ]
  },
  {
   "cell_type": "code",
   "execution_count": null,
   "metadata": {
    "collapsed": true
   },
   "outputs": [],
   "source": []
  }
 ],
 "metadata": {
  "kernelspec": {
   "display_name": "Python 3",
   "language": "python",
   "name": "python3"
  },
  "language_info": {
   "codemirror_mode": {
    "name": "ipython",
    "version": 3
   },
   "file_extension": ".py",
   "mimetype": "text/x-python",
   "name": "python",
   "nbconvert_exporter": "python",
   "pygments_lexer": "ipython3",
   "version": "3.6.0"
  }
 },
 "nbformat": 4,
 "nbformat_minor": 2
}
